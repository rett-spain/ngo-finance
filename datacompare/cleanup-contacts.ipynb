{
 "cells": [
  {
   "cell_type": "code",
   "execution_count": 486,
   "metadata": {},
   "outputs": [],
   "source": [
    "# Import libraries\n",
    "import pandas as pd\n",
    "import re\n",
    "import json\n",
    "import sys\n",
    "sys.path.append(\"..\")\n",
    "from utils.filesystem import *\n",
    "from utils.salesforce import *"
   ]
  },
  {
   "cell_type": "code",
   "execution_count": 487,
   "metadata": {},
   "outputs": [],
   "source": [
    "# Config file path\n",
    "config_file = '../config.json'\n",
    "\n",
    "# Load the config file\n",
    "with open(config_file) as f:\n",
    "    config = json.load(f)\n",
    "\n",
    "# Load the basic config parameters\n",
    "username = config['salesforce_username']\n",
    "password = config['salesforce_password']\n",
    "security_token = config[\"salesforce_token\"]"
   ]
  },
  {
   "cell_type": "code",
   "execution_count": 488,
   "metadata": {},
   "outputs": [
    {
     "name": "stdout",
     "output_type": "stream",
     "text": [
      "Authentication successful\n",
      "Exported 897 contacts to ../data/raw/contacts_export.csv\n",
      "Contacts exported to ../data/raw/contacts_export.csv\n"
     ]
    }
   ],
   "source": [
    "# Create a SalesForceAPI object\n",
    "sf_api = SalesForceAPI(username, password, security_token)\n",
    "\n",
    "# Authenticate and export contacts to CSV\n",
    "if sf_api.authenticate():\n",
    "    print(\"Authentication successful\")\n",
    "\n",
    "    # Export contacts to CSV\n",
    "    file_path = '../data/raw/contacts_export.csv'\n",
    "    sf_api.export_basic_contact_info_to_csv(file_path)\n",
    "    print(f\"Contacts exported to {file_path}\")\n",
    "else:\n",
    "    print(\"Authentication failed\")"
   ]
  },
  {
   "cell_type": "code",
   "execution_count": 489,
   "metadata": {},
   "outputs": [
    {
     "name": "stdout",
     "output_type": "stream",
     "text": [
      "897\n"
     ]
    }
   ],
   "source": [
    "# Load transaction and contact data from CSV files\n",
    "contacts_df = pd.read_csv('../data/raw/contacts_export.csv', delimiter=',')\n",
    "\n",
    "print(len(contacts_df))\n"
   ]
  },
  {
   "cell_type": "code",
   "execution_count": 490,
   "metadata": {},
   "outputs": [],
   "source": [
    "# Filter contacts where FirstName is equal to LastName\n",
    "same_name_contacts = contacts_df[contacts_df['FirstName'] == contacts_df['LastName']]\n",
    "\n",
    "# Remove FirstName for these contacts\n",
    "contacts_df.loc[same_name_contacts.index, 'FirstName'] = \"\""
   ]
  },
  {
   "cell_type": "code",
   "execution_count": 491,
   "metadata": {},
   "outputs": [
    {
     "name": "stdout",
     "output_type": "stream",
     "text": [
      "0\n",
      "Empty DataFrame\n",
      "Columns: [LastName]\n",
      "Index: []\n"
     ]
    }
   ],
   "source": [
    "# Remove the strings 'SLL', 'SL', 'S.L.', 'S.L.L.', 's.a', 'S.C.A.', 's.l.l', 'S.C.A.', 'S.A.', 'S.L.L', 'S.L' from the LastName column\n",
    "contacts_df['LastName'] = contacts_df['LastName'].str.replace(r\",?\\s?S\\.?A\\.?\", \"\", regex=True, flags=re.IGNORECASE)\n",
    "contacts_df['LastName'] = contacts_df['LastName'].str.replace(r\",?\\s?S\\.?L\\.?\", \"\", regex=True, flags=re.IGNORECASE)\n",
    "contacts_df['LastName'] = contacts_df['LastName'].str.replace(r\",?\\s?SLL\", \"\", regex=True, flags=re.IGNORECASE)\n",
    "contacts_df['LastName'] = contacts_df['LastName'].str.replace(r\",?\\s?SL\", \"\", regex=True, flags=re.IGNORECASE)\n",
    "\n",
    "# Define the strings to remove, ensuring word boundaries are considered\n",
    "strings_to_remove = [\"SLL\", \"SL\", \"S\\\\.l\", \"S\\\\.L\\\\.\", \"S\\\\.L\\\\.L\\\\.\", \"s\\\\.a\", \"S\\\\.C\\\\.A\\\\.\", \"s\\\\.l\\\\.l\", \"S\\\\.C\\\\.A\\\\.\", \"S\\\\.A\\\\.\", \"S\\\\.L\\\\.L\", \"S\\\\.L\"]\n",
    "\n",
    "# Create a single boolean condition by combining all individual conditions with the OR operator and word boundaries\n",
    "condition = contacts_df['LastName'].str.contains(r'\\b(?:' + '|'.join(strings_to_remove) + r')\\b', case=False, regex=True)\n",
    "\n",
    "# Filter the DataFrame using the combined condition\n",
    "filtered_df = contacts_df[condition]\n",
    "\n",
    "# Display the filtered DataFrame length\n",
    "print(len(filtered_df))\n",
    "\n",
    "# Display the filtered DataFrame, but only columns LastName and FirstName, 20 rows\n",
    "print(filtered_df[['LastName']].head(20))"
   ]
  },
  {
   "cell_type": "code",
   "execution_count": 492,
   "metadata": {},
   "outputs": [],
   "source": [
    "# Function to convert names to proper case, handling exceptions for \"De\" and \"La\"\n",
    "def proper_case(name):\n",
    "    if pd.isnull(name) or name == \"\":\n",
    "        return \"\"\n",
    "    words = name.split()\n",
    "    exceptions = {\"de\", \"la\", \"del\", \"las\", \"los\", \"y\"}\n",
    "    # Capitalize each word unless it is in the exceptions set\n",
    "    words = [word.lower() if word.lower() in exceptions else word.capitalize() for word in words]\n",
    "    # Join the words back into a single string\n",
    "    return ' '.join(words)\n",
    "\n",
    "# Apply proper case transformation\n",
    "contacts_df['FirstName'] = contacts_df['FirstName'].apply(proper_case)\n",
    "contacts_df['MiddleName'] = contacts_df['MiddleName'].apply(proper_case)\n",
    "contacts_df['LastName'] = contacts_df['LastName'].apply(proper_case)\n",
    "\n",
    "# Add a new column 'baja' with default value False\n",
    "contacts_df['baja'] = False\n",
    "\n",
    "# Define a function to update ContactCategory__c and baja based on ContactType__c\n",
    "def update_contact(row):\n",
    "    if row['ContactType__c'] == 'Baja':\n",
    "        row['ContactCategory__c'] = 'a1kMI000002OzqnYAC'\n",
    "        row['baja'] = True\n",
    "    elif row['ContactType__c'] == 'Socio ordinario':\n",
    "        row['ContactCategory__c'] = 'a1kMI000002OzqnYAC'\n",
    "    elif row['ContactType__c'] == 'Socio colaborador':\n",
    "        row['ContactCategory__c'] = 'a1kMI000002OzsPYAS'\n",
    "    elif row['ContactType__c'] == 'Donante particular':\n",
    "        row['ContactCategory__c'] = 'a1kMI000002OzvdYAC'\n",
    "    elif row['ContactType__c'] == 'Donante empresa':\n",
    "        row['ContactCategory__c'] = 'a1kMI000002Ozu1YAC'\n",
    "    elif row['ContactType__c'] == 'No socio':\n",
    "        row['ContactCategory__c'] = 'a1kMI000002P0YLYA0'\n",
    "    elif row['ContactType__c'] == 'Pendiente documentación':\n",
    "        row['ContactCategory__c'] = 'a1kMI000002OzqnYAC'\n",
    "    return row\n",
    "\n",
    "# Apply the update_contact function to each row in the DataFrame\n",
    "contacts_df = contacts_df.apply(update_contact, axis=1)\n"
   ]
  },
  {
   "cell_type": "code",
   "execution_count": 493,
   "metadata": {},
   "outputs": [
    {
     "name": "stdout",
     "output_type": "stream",
     "text": [
      "0\n"
     ]
    }
   ],
   "source": [
    "# Filter rows where LastName and MiddleName are present, but FirstName is not\n",
    "filtered_result_df =  contacts_df[(contacts_df['LastName'].notnull()) & (contacts_df['LastName'] != \"\") &\n",
    "                               (contacts_df['MiddleName'].notnull()) & (contacts_df['MiddleName'] != \"\") &\n",
    "                               ((contacts_df['FirstName'].isnull()) | (contacts_df['FirstName'] == \"\"))]\n",
    "\n",
    "# Display the filtered DataFrame\n",
    "print(len(filtered_result_df))"
   ]
  },
  {
   "cell_type": "code",
   "execution_count": 494,
   "metadata": {},
   "outputs": [
    {
     "name": "stdout",
     "output_type": "stream",
     "text": [
      "36\n"
     ]
    }
   ],
   "source": [
    "# Filter rows where ContactType__c is \"Donante empresa\" and either FirstName, MiddleName, or LastName is missing\n",
    "donante_empresa_missing_names_df = contacts_df[(contacts_df['ContactType__c'] == 'Donante empresa') & \n",
    "                                               ((contacts_df['FirstName'].isnull()) | (contacts_df['FirstName'] == \"\") |\n",
    "                                                (contacts_df['MiddleName'].isnull()) | (contacts_df['MiddleName'] == \"\") |\n",
    "                                                (contacts_df['LastName'].isnull()) | (contacts_df['LastName'] == \"\"))]\n",
    "\n",
    "# Display the filtered DataFrame\n",
    "print(len(donante_empresa_missing_names_df))\n"
   ]
  },
  {
   "cell_type": "code",
   "execution_count": 495,
   "metadata": {},
   "outputs": [
    {
     "name": "stdout",
     "output_type": "stream",
     "text": [
      "44\n"
     ]
    }
   ],
   "source": [
    "# Filter rows where both FirstName and MiddleName are missing\n",
    "missing_first_and_middle_name_df =  contacts_df[(( contacts_df['FirstName'].isnull()) | ( contacts_df['FirstName'] == \"\")) &\n",
    "                                             (( contacts_df['MiddleName'].isnull()) | ( contacts_df['MiddleName'] == \"\"))]\n",
    "\n",
    "# Count the number of rows in the filtered DataFrame\n",
    "print(len(missing_first_and_middle_name_df))\n"
   ]
  },
  {
   "cell_type": "code",
   "execution_count": 496,
   "metadata": {},
   "outputs": [
    {
     "name": "stdout",
     "output_type": "stream",
     "text": [
      "0\n",
      "Empty DataFrame\n",
      "Columns: [attributes, Id, ContactType__c, ContactCategory__c, FirstName, MiddleName, LastName, Name, Email, baja]\n",
      "Index: []\n"
     ]
    }
   ],
   "source": [
    "# Filter rows where LastName is missing\n",
    "missing_last_name_df =  contacts_df[( contacts_df['LastName'].isnull()) | ( contacts_df['LastName'] == \"\")]\n",
    "# Count the number of rows in the filtered DataFrame\n",
    "print(len(missing_last_name_df))\n",
    "\n",
    "print(missing_last_name_df)"
   ]
  },
  {
   "cell_type": "code",
   "execution_count": 497,
   "metadata": {},
   "outputs": [],
   "source": [
    "# Keep only the specified columns\n",
    "result_df = contacts_df[['Id', 'ContactCategory__c', 'FirstName', 'MiddleName', 'LastName', 'baja']]\n",
    "\n",
    "# Save the updated DataFrame to a new CSV file\n",
    "result_df.to_csv('../data/raw/contacts_export_updated.csv', index=False)"
   ]
  }
 ],
 "metadata": {
  "kernelspec": {
   "display_name": "base",
   "language": "python",
   "name": "python3"
  },
  "language_info": {
   "codemirror_mode": {
    "name": "ipython",
    "version": 3
   },
   "file_extension": ".py",
   "mimetype": "text/x-python",
   "name": "python",
   "nbconvert_exporter": "python",
   "pygments_lexer": "ipython3",
   "version": "3.10.9"
  }
 },
 "nbformat": 4,
 "nbformat_minor": 2
}

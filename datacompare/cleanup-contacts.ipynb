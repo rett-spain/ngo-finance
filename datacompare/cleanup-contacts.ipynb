{
 "cells": [
  {
   "cell_type": "code",
   "execution_count": null,
   "metadata": {},
   "outputs": [],
   "source": [
    "import pandas as pd"
   ]
  },
  {
   "cell_type": "code",
   "execution_count": null,
   "metadata": {},
   "outputs": [],
   "source": [
    "# Load transaction and contact data from CSV files\n",
    "contacts_df = pd.read_csv('../data/raw/contacts_export.csv', delimiter=',')\n",
    "\n",
    "print(contacts_df.head())\n"
   ]
  },
  {
   "cell_type": "code",
   "execution_count": null,
   "metadata": {},
   "outputs": [],
   "source": [
    "# Function to convert names to proper case, handling exceptions for \"De\" and \"La\"\n",
    "def proper_case(name):\n",
    "    if pd.isnull(name) or name == \"\":\n",
    "        return \"\"\n",
    "    words = name.split()\n",
    "    exceptions = {\"de\", \"la\", \"del\", \"las\", \"los\", \"y\"}\n",
    "    # Capitalize each word unless it is in the exceptions set\n",
    "    words = [word.lower() if word.lower() in exceptions else word.capitalize() for word in words]\n",
    "    # Join the words back into a single string\n",
    "    return ' '.join(words)\n",
    "\n",
    "# Apply proper case transformation\n",
    "contacts_df['FirstName'] = contacts_df['FirstName'].apply(proper_case)\n",
    "contacts_df['MiddleName'] = contacts_df['MiddleName'].apply(proper_case)\n",
    "contacts_df['LastName'] = contacts_df['LastName'].apply(proper_case)\n",
    "\n",
    "# Add a new column 'baja' with default value False\n",
    "contacts_df['baja'] = False\n",
    "\n",
    "# Define a function to update ContactCategory__c and baja based on ContactType__c\n",
    "def update_contact(row):\n",
    "    if row['ContactType__c'] == 'Baja':\n",
    "        row['ContactCategory__c'] = 'a1kMI000002OzqnYAC'\n",
    "        row['baja'] = True\n",
    "    elif row['ContactType__c'] == 'Socio ordinario':\n",
    "        row['ContactCategory__c'] = 'a1kMI000002OzqnYAC'\n",
    "    elif row['ContactType__c'] == 'Socio colaborador':\n",
    "        row['ContactCategory__c'] = 'a1kMI000002OzsPYAS'\n",
    "    elif row['ContactType__c'] == 'Donante particular':\n",
    "        row['ContactCategory__c'] = 'a1kMI000002OzvdYAC'\n",
    "    elif row['ContactType__c'] == 'Donante empresa':\n",
    "        row['ContactCategory__c'] = 'a1kMI000002Ozu1YAC'\n",
    "    elif row['ContactType__c'] == 'No socio':\n",
    "        row['ContactCategory__c'] = 'a1kMI000002P0YLYA0'\n",
    "    elif row['ContactType__c'] == 'Pendiente documentación':\n",
    "        row['ContactCategory__c'] = 'a1kMI000002OzqnYAC'\n",
    "    return row\n",
    "\n",
    "# Apply the update_contact function to each row in the DataFrame\n",
    "contacts_df = contacts_df.apply(update_contact, axis=1)\n",
    "\n",
    "# Filter contacts where FirstName is equal to LastName\n",
    "same_name_contacts = contacts_df[contacts_df['FirstName'] == contacts_df['LastName']]\n",
    "# Remove FirstName for these contacts\n",
    "contacts_df.loc[same_name_contacts.index, 'FirstName'] = \"\"\n"
   ]
  },
  {
   "cell_type": "code",
   "execution_count": null,
   "metadata": {},
   "outputs": [],
   "source": [
    "# Filter rows where LastName and MiddleName are present, but FirstName is not\n",
    "filtered_result_df =  contacts_df[(contacts_df['LastName'].notnull()) & (contacts_df['LastName'] != \"\") &\n",
    "                               (contacts_df['MiddleName'].notnull()) & (contacts_df['MiddleName'] != \"\") &\n",
    "                               ((contacts_df['FirstName'].isnull()) | (contacts_df['FirstName'] == \"\"))]\n",
    "\n",
    "# Display the filtered DataFrame\n",
    "filtered_result_df\n"
   ]
  },
  {
   "cell_type": "code",
   "execution_count": null,
   "metadata": {},
   "outputs": [],
   "source": [
    "# Filter rows where ContactType__c is \"Donante empresa\" and either FirstName, MiddleName, or LastName is missing\n",
    "donante_empresa_missing_names_df = contacts_df[(contacts_df['ContactType__c'] == 'Donante empresa') & \n",
    "                                               ((contacts_df['FirstName'].isnull()) | (contacts_df['FirstName'] == \"\") |\n",
    "                                                (contacts_df['MiddleName'].isnull()) | (contacts_df['MiddleName'] == \"\") |\n",
    "                                                (contacts_df['LastName'].isnull()) | (contacts_df['LastName'] == \"\"))]\n",
    "\n",
    "# Display the filtered DataFrame\n",
    "donante_empresa_missing_names_df\n"
   ]
  },
  {
   "cell_type": "code",
   "execution_count": null,
   "metadata": {},
   "outputs": [],
   "source": [
    "# Filter rows where both FirstName and MiddleName are missing\n",
    "missing_first_and_middle_name_df =  contacts_df[(( contacts_df['FirstName'].isnull()) | ( contacts_df['FirstName'] == \"\")) &\n",
    "                                             (( contacts_df['MiddleName'].isnull()) | ( contacts_df['MiddleName'] == \"\"))]\n",
    "\n",
    "# Display the filtered DataFrame\n",
    "missing_first_and_middle_name_df\n"
   ]
  },
  {
   "cell_type": "code",
   "execution_count": null,
   "metadata": {},
   "outputs": [],
   "source": [
    "# Keep only the specified columns\n",
    "result_df = contacts_df[['Id', 'ContactCategory__c', 'FirstName', 'MiddleName', 'LastName', 'baja']]\n",
    "\n",
    "# Save the updated DataFrame to a new CSV file\n",
    "result_df.to_csv('../data/raw/contacts_export_updated.csv', index=False)"
   ]
  },
  {
   "cell_type": "code",
   "execution_count": null,
   "metadata": {},
   "outputs": [],
   "source": [
    "import pandas as pd\n",
    "\n",
    "# Sample data\n",
    "data = {\n",
    "    \"ContactType__c\": [\"Donante empresa\", \"Donante empresa\", \"Donante particular\"],\n",
    "    \"FirstName\": [\"Empresa\", \"Corporation\", None],\n",
    "    \"MiddleName\": [None, None, None],\n",
    "    \"LastName\": [\"S.L.\", \"S.a\", \"de los Santos\"]\n",
    "}\n",
    "\n",
    "contacts_df = pd.DataFrame(data)\n",
    "print(contacts_df)\n",
    "\n",
    "# Strings to remove and their variations\n",
    "remove_strings = [\"S.l\", \"Sl\", \"Sa\", \"S.a\", \"S.c.a.\", \"Slu\", \"S.l.\", \"SLL\"]\n",
    "remove_variations = [s.lower().replace(\".\", \"\").replace(\" \", \"\") for s in remove_strings]\n",
    "\n",
    "# Function to clean the name by removing specified strings and variations\n",
    "def clean_name(name):\n",
    "    if pd.isnull(name) or name == \"\":\n",
    "        return \"\"\n",
    "    name = name.lower()\n",
    "    for string in remove_variations:\n",
    "        name = name.replace(string, \"\")\n",
    "    return proper_case(name).strip()\n",
    "\n",
    "# Merge FirstName, MiddleName, and LastName into the LastName column\n",
    "contacts_df['LastName'] = contacts_df[['FirstName', 'MiddleName', 'LastName']].fillna('').apply(lambda x: ' '.join(x).strip(), axis=1)\n",
    "\n",
    "# Clear the FirstName and MiddleName columns\n",
    "contacts_df['FirstName'] = \"\"\n",
    "contacts_df['MiddleName'] = \"\"\n",
    "\n",
    "# Clean the LastName column by removing specified strings and variations\n",
    "contacts_df['LastName'] = contacts_df['LastName'].apply(clean_name)\n",
    "\n",
    "# Display the updated DataFrame\n",
    "print(contacts_df)"
   ]
  }
 ],
 "metadata": {
  "kernelspec": {
   "display_name": "base",
   "language": "python",
   "name": "python3"
  },
  "language_info": {
   "codemirror_mode": {
    "name": "ipython",
    "version": 3
   },
   "file_extension": ".py",
   "mimetype": "text/x-python",
   "name": "python",
   "nbconvert_exporter": "python",
   "pygments_lexer": "ipython3",
   "version": "3.10.9"
  }
 },
 "nbformat": 4,
 "nbformat_minor": 2
}

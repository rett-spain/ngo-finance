{
 "cells": [
  {
   "cell_type": "code",
   "execution_count": null,
   "metadata": {},
   "outputs": [],
   "source": [
    "%pip install pandas\n",
    "%pip install fuzzywuzzy\n",
    "%pip install numpy\n",
    "%pip install rapidfuzz"
   ]
  },
  {
   "cell_type": "code",
   "execution_count": null,
   "metadata": {},
   "outputs": [],
   "source": [
    "import pandas as pd\n",
    "from fuzzywuzzy import process"
   ]
  },
  {
   "cell_type": "code",
   "execution_count": null,
   "metadata": {},
   "outputs": [],
   "source": [
    "# Load transaction and contact data from CSV files\n",
    "transactions_df = pd.read_csv('../data/raw/upload-transactions.csv', delimiter=';')\n",
    "contacts_df = pd.read_csv('../data/raw/contacts_export.csv', delimiter=',')\n",
    "\n",
    "print(contacts_df.head())\n"
   ]
  },
  {
   "cell_type": "code",
   "execution_count": null,
   "metadata": {},
   "outputs": [],
   "source": [
    "# Preprocess data: Convert 'Detail' in transactions and 'Name' in contacts to lowercase for case-insensitive matching\n",
    "def preprocess_name(name):\n",
    "    if isinstance(name, str):\n",
    "        return name.lower().strip()\n",
    "    return ''\n",
    "\n",
    "transactions_df['Observaciones'] = transactions_df['Observaciones'].apply(preprocess_name)\n",
    "contacts_df['Name'] = contacts_df['Name'].apply(preprocess_name)\n",
    "\n",
    "print(transactions_df['Observaciones'].head())\n",
    "print(contacts_df['Name'].head())"
   ]
  },
  {
   "cell_type": "code",
   "execution_count": null,
   "metadata": {},
   "outputs": [],
   "source": [
    "# Function to find the top 2 matches for each transaction detail\n",
    "def find_top_matches(detail, name_list, n=2):\n",
    "    matches = process.extract(detail, name_list, limit=n)\n",
    "    return matches\n",
    "\n",
    "# Apply the matching function to each transaction detail\n",
    "transactions_df['Matches'] = transactions_df['Observaciones'].apply(lambda x: find_top_matches(x, contacts_df['Name']))\n",
    "\n",
    "# Extract match details into separate columns\n",
    "transactions_df['Match_1'] = transactions_df['Matches'].apply(lambda x: x[0][0] if len(x) > 0 else None)\n",
    "transactions_df['Score_1'] = transactions_df['Matches'].apply(lambda x: x[0][1] if len(x) > 0 else None)\n",
    "transactions_df['Match_2'] = transactions_df['Matches'].apply(lambda x: x[1][0] if len(x) > 1 else None)\n",
    "transactions_df['Score_2'] = transactions_df['Matches'].apply(lambda x: x[1][1] if len(x) > 1 else None)\n",
    "\n",
    "# Display the results\n",
    "result_df = transactions_df[['transaction_amount', 'transaction_date', 'Observaciones', 'Match_1', 'Score_1', 'Match_2', 'Score_2']]\n",
    "print(result_df)\n",
    "\n",
    "# Save the result to a CSV file\n",
    "result_df.to_csv('../data/raw/matched_transactions.csv', index=False)"
   ]
  }
 ],
 "metadata": {
  "kernelspec": {
   "display_name": "base",
   "language": "python",
   "name": "python3"
  },
  "language_info": {
   "codemirror_mode": {
    "name": "ipython",
    "version": 3
   },
   "file_extension": ".py",
   "mimetype": "text/x-python",
   "name": "python",
   "nbconvert_exporter": "python",
   "pygments_lexer": "ipython3",
   "version": "3.10.9"
  }
 },
 "nbformat": 4,
 "nbformat_minor": 2
}

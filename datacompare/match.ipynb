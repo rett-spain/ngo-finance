{
 "cells": [
  {
   "cell_type": "code",
   "execution_count": null,
   "metadata": {},
   "outputs": [],
   "source": [
    "%pip install pandas\n",
    "%pip install fuzzywuzzy\n",
    "%pip install numpy\n",
    "%pip install rapidfuzz\n",
    "%pip install tqdm"
   ]
  },
  {
   "cell_type": "code",
   "execution_count": null,
   "metadata": {},
   "outputs": [],
   "source": [
    "import pandas as pd\n",
    "from fuzzywuzzy import process\n",
    "from tqdm import tqdm"
   ]
  },
  {
   "cell_type": "code",
   "execution_count": null,
   "metadata": {},
   "outputs": [],
   "source": [
    "# Load transaction and contact data from CSV files\n",
    "transactions_df = pd.read_csv('../data/raw/transactions_baseline.csv', delimiter=';')\n",
    "contacts_df = pd.read_csv('../data/raw/contacts_export.csv', delimiter=',')\n",
    "\n",
    "print(transactions_df.head())\n",
    "print(contacts_df.head())\n"
   ]
  },
  {
   "cell_type": "code",
   "execution_count": null,
   "metadata": {},
   "outputs": [],
   "source": [
    "# Preprocess data: Convert all fields to lowercase for case-insensitive matching\n",
    "def preprocess_name(name):\n",
    "    if isinstance(name, str):\n",
    "        return name.lower().strip()\n",
    "    return ''\n",
    "\n",
    "transactions_df['Data'] = transactions_df['Data'].apply(preprocess_name)\n",
    "contacts_df['Name'] = contacts_df['Name'].apply(preprocess_name)\n",
    "\n",
    "print(transactions_df['Data'].head())\n",
    "print(contacts_df['Name'].head())"
   ]
  },
  {
   "cell_type": "code",
   "execution_count": null,
   "metadata": {},
   "outputs": [],
   "source": [
    "# Function to find the top 2 matches for each transaction detail\n",
    "def find_top_matches(detail, contacts_df, n=2):\n",
    "    matches = process.extract(detail, contacts_df['Name'], limit=n)\n",
    "    match_ids = [contacts_df[contacts_df['Name'] == match[0]]['Id'].values[0] for match in matches]\n",
    "    return matches, match_ids\n",
    "\n",
    "# Apply the matching function to each transaction detail with progress tracking\n",
    "matches = []\n",
    "for detail in tqdm(transactions_df['Data'], desc=\"Matching details\"):\n",
    "    matches.append(find_top_matches(detail, contacts_df))\n",
    "transactions_df['Matches'] = matches\n",
    "\n",
    "# Extract match details into separate columns\n",
    "transactions_df['Match_1'] = transactions_df['Matches'].apply(lambda x: x[0][0][0] if len(x[0]) > 0 else None)\n",
    "transactions_df['Score_1'] = transactions_df['Matches'].apply(lambda x: x[0][0][1] if len(x[0]) > 0 else None)\n",
    "transactions_df['Match1_ID'] = transactions_df['Matches'].apply(lambda x: x[1][0] if len(x[1]) > 0 else None)\n",
    "\n",
    "transactions_df['Match_2'] = transactions_df['Matches'].apply(lambda x: x[0][1][0] if len(x[0]) > 1 else None)\n",
    "transactions_df['Score_2'] = transactions_df['Matches'].apply(lambda x: x[0][1][1] if len(x[0]) > 1 else None)\n",
    "transactions_df['Match2_ID'] = transactions_df['Matches'].apply(lambda x: x[1][1] if len(x[1]) > 1 else None)\n",
    "\n",
    "# Display the results\n",
    "result_df = transactions_df[['TransactionID', 'TransactionDate', 'Detail', 'Amount', 'TransactionType', 'TransactionCategory', 'DetailAditional', 'Invoice', 'Reference', 'Data', 'Match_1', 'Score_1', 'Match1_ID', 'Match_2', 'Score_2', 'Match2_ID']]\n",
    "print(result_df)\n",
    "\n",
    "# Save the result to a CSV file\n",
    "result_df.to_csv('../data/raw/matched_transactions.csv', index=False)\n"
   ]
  }
 ],
 "metadata": {
  "kernelspec": {
   "display_name": "base",
   "language": "python",
   "name": "python3"
  },
  "language_info": {
   "codemirror_mode": {
    "name": "ipython",
    "version": 3
   },
   "file_extension": ".py",
   "mimetype": "text/x-python",
   "name": "python",
   "nbconvert_exporter": "python",
   "pygments_lexer": "ipython3",
   "version": "3.10.9"
  }
 },
 "nbformat": 4,
 "nbformat_minor": 2
}

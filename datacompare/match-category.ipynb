{
 "cells": [
  {
   "cell_type": "code",
   "execution_count": 1,
   "metadata": {},
   "outputs": [],
   "source": [
    "import pandas as pd"
   ]
  },
  {
   "cell_type": "code",
   "execution_count": 2,
   "metadata": {},
   "outputs": [],
   "source": [
    "# Load the mapping table\n",
    "mapping_table = {\n",
    "    'Cuota Socio Anual': 1,\n",
    "    'Cuota Socio Mensual': 23,\n",
    "    'Cuota Socio Trimestral': 36,\n",
    "    'Donación Particular': 7,\n",
    "    'Donación Empresa': 22,\n",
    "    'Subvención Pública': 6,\n",
    "    'Subvención Privada': 11,\n",
    "    'Telefonía': 29,\n",
    "    'Electricidad': 29,\n",
    "    'Agua': 29,\n",
    "    'Gastos Oficina Valencia': 29,\n",
    "    'Gastos Oficina Madrid': 29,\n",
    "    'Limpieza': 30,\n",
    "    'Asesoramiento jurídico': 31,\n",
    "    'Gestoría': 31,\n",
    "    'Mantenimiento Web': 32,\n",
    "    'Gastos tecnología': 32,\n",
    "    'Mensajería': 33,\n",
    "    'Comisiones': 34,\n",
    "    'Póliza de seguro': 35,\n",
    "    'Prevención de Riesgos': 35,\n",
    "    'Servicio Psicología Grupal': 35,\n",
    "    'Corona Flores': 35,\n",
    "    'Teaming': 35,\n",
    "    'Merchandising varios': 2,\n",
    "    'Bodas, comuniones y bautizos': 12,\n",
    "    'Calendario': 24,\n",
    "    'Eventos': 25,\n",
    "    'Cursos formación': 14,\n",
    "    'Seguridad Social': 18,\n",
    "    'Membresía': 19,\n",
    "    'Nómina': 20,\n",
    "    'Liquidación Finiquito': 20,\n",
    "    'Modelo 111': 26,\n",
    "    'Modelo 303': 26,\n",
    "    'Becas AESR': 9,\n",
    "    'Encuentro familias': 27,\n",
    "    'Cumpleaños niñas': 17,\n",
    "    'Finrett': 17,\n",
    "    'Comunicadores': 28,\n",
    "    'Captación de fondos': 4,\n",
    "    'Captación de fondos': 5,\n",
    "    'Captación de fondos': 15,\n",
    "    'Captación de fondos': 16,\n",
    "    'Lotería': 21\n",
    "}\n",
    "\n"
   ]
  },
  {
   "cell_type": "code",
   "execution_count": 6,
   "metadata": {},
   "outputs": [
    {
     "name": "stdout",
     "output_type": "stream",
     "text": [
      "Transaction categories have been successfully mapped and saved to updated_transactions.csv.\n"
     ]
    }
   ],
   "source": [
    "# Load the transactions CSV file\n",
    "transactions_df = pd.read_csv('../data/raw/transactions.csv', delimiter=';')\n",
    "\n",
    "# Define a function to map TransactionCategory to transaction_category_id\n",
    "def map_transaction_category(transaction_category):\n",
    "    return mapping_table.get(transaction_category, None)\n",
    "\n",
    "# Apply the mapping function to the transactions DataFrame\n",
    "transactions_df['transaction_category_id'] = transactions_df['TransactionCategory'].apply(map_transaction_category)\n",
    "\n",
    "# Convert transaction_category_id to integer type\n",
    "transactions_df['transaction_category_id'] = transactions_df['transaction_category_id'].astype('Int64')\n",
    "\n",
    "# Save the updated transactions to a new CSV file\n",
    "transactions_df.to_csv('../data/raw/updated_transactions.csv', index=False)\n",
    "\n",
    "print(\"Transaction categories have been successfully mapped and saved to updated_transactions.csv.\")"
   ]
  }
 ],
 "metadata": {
  "kernelspec": {
   "display_name": "base",
   "language": "python",
   "name": "python3"
  },
  "language_info": {
   "codemirror_mode": {
    "name": "ipython",
    "version": 3
   },
   "file_extension": ".py",
   "mimetype": "text/x-python",
   "name": "python",
   "nbconvert_exporter": "python",
   "pygments_lexer": "ipython3",
   "version": "3.10.9"
  }
 },
 "nbformat": 4,
 "nbformat_minor": 2
}

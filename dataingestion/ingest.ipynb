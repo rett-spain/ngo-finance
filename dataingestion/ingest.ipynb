{
 "cells": [
  {
   "cell_type": "code",
   "execution_count": 7,
   "metadata": {},
   "outputs": [
    {
     "name": "stdout",
     "output_type": "stream",
     "text": [
      "Requirement already satisfied: pandas in c:\\users\\perocha\\appdata\\local\\anaconda3\\lib\\site-packages (2.1.2)\n",
      "Requirement already satisfied: Office365-REST-Python-Client in c:\\users\\perocha\\appdata\\local\\anaconda3\\lib\\site-packages (2.5.9)\n",
      "Requirement already satisfied: numpy<2,>=1.22.4 in c:\\users\\perocha\\appdata\\roaming\\python\\python310\\site-packages (from pandas) (1.24.3)\n",
      "Requirement already satisfied: python-dateutil>=2.8.2 in c:\\users\\perocha\\appdata\\local\\anaconda3\\lib\\site-packages (from pandas) (2.8.2)\n",
      "Requirement already satisfied: pytz>=2020.1 in c:\\users\\perocha\\appdata\\local\\anaconda3\\lib\\site-packages (from pandas) (2022.7)\n",
      "Requirement already satisfied: tzdata>=2022.1 in c:\\users\\perocha\\appdata\\roaming\\python\\python310\\site-packages (from pandas) (2023.3)\n",
      "Requirement already satisfied: requests in c:\\users\\perocha\\appdata\\local\\anaconda3\\lib\\site-packages (from Office365-REST-Python-Client) (2.31.0)\n",
      "Requirement already satisfied: typing-extensions>=4.0.0 in c:\\users\\perocha\\appdata\\local\\anaconda3\\lib\\site-packages (from Office365-REST-Python-Client) (4.8.0)\n",
      "Requirement already satisfied: msal in c:\\users\\perocha\\appdata\\local\\anaconda3\\lib\\site-packages (from Office365-REST-Python-Client) (1.24.1)\n",
      "Requirement already satisfied: six>=1.5 in c:\\users\\perocha\\appdata\\local\\anaconda3\\lib\\site-packages (from python-dateutil>=2.8.2->pandas) (1.16.0)\n",
      "Requirement already satisfied: cryptography<44,>=0.6 in c:\\users\\perocha\\appdata\\local\\anaconda3\\lib\\site-packages (from msal->Office365-REST-Python-Client) (39.0.1)\n",
      "Requirement already satisfied: PyJWT[crypto]<3,>=1.0.0 in c:\\users\\perocha\\appdata\\local\\anaconda3\\lib\\site-packages (from msal->Office365-REST-Python-Client) (2.4.0)\n",
      "Requirement already satisfied: idna<4,>=2.5 in c:\\users\\perocha\\appdata\\local\\anaconda3\\lib\\site-packages (from requests->Office365-REST-Python-Client) (3.4)\n",
      "Requirement already satisfied: charset-normalizer<4,>=2 in c:\\users\\perocha\\appdata\\local\\anaconda3\\lib\\site-packages (from requests->Office365-REST-Python-Client) (2.0.4)\n",
      "Requirement already satisfied: urllib3<3,>=1.21.1 in c:\\users\\perocha\\appdata\\local\\anaconda3\\lib\\site-packages (from requests->Office365-REST-Python-Client) (1.26.14)\n",
      "Requirement already satisfied: certifi>=2017.4.17 in c:\\users\\perocha\\appdata\\local\\anaconda3\\lib\\site-packages (from requests->Office365-REST-Python-Client) (2022.12.7)\n",
      "Requirement already satisfied: cffi>=1.12 in c:\\users\\perocha\\appdata\\local\\anaconda3\\lib\\site-packages (from cryptography<44,>=0.6->msal->Office365-REST-Python-Client) (1.15.1)\n",
      "Requirement already satisfied: pycparser in c:\\users\\perocha\\appdata\\local\\anaconda3\\lib\\site-packages (from cffi>=1.12->cryptography<44,>=0.6->msal->Office365-REST-Python-Client) (2.21)\n",
      "Note: you may need to restart the kernel to use updated packages.\n",
      "Requirement already satisfied: pyyaml in c:\\users\\perocha\\appdata\\roaming\\python\\python310\\site-packages (6.0.1)Note: you may need to restart the kernel to use updated packages.\n",
      "\n"
     ]
    }
   ],
   "source": [
    "# Install the required packages\n",
    "%pip install pandas Office365-REST-Python-Client\n",
    "%pip install pyyaml"
   ]
  },
  {
   "cell_type": "code",
   "execution_count": 26,
   "metadata": {},
   "outputs": [
    {
     "name": "stdout",
     "output_type": "stream",
     "text": [
      "Requirement already satisfied: openpyxl in c:\\users\\perocha\\appdata\\local\\anaconda3\\lib\\site-packages (3.0.10)\n",
      "Requirement already satisfied: et_xmlfile in c:\\users\\perocha\\appdata\\local\\anaconda3\\lib\\site-packages (from openpyxl) (1.1.0)\n",
      "Note: you may need to restart the kernel to use updated packages.\n"
     ]
    }
   ],
   "source": [
    "%pip install openpyxl"
   ]
  },
  {
   "cell_type": "code",
   "execution_count": 27,
   "metadata": {},
   "outputs": [],
   "source": [
    "# Import the required libraries\n",
    "from office365.runtime.auth.authentication_context import AuthenticationContext\n",
    "from office365.sharepoint.client_context import ClientContext\n",
    "from office365.sharepoint.files.file import File\n",
    "import io\n",
    "import pandas as pd\n",
    "\n",
    "# Import the utils library\n",
    "import sys\n",
    "sys.path.append(\"..\")\n",
    "from utils.filesystem import *\n"
   ]
  },
  {
   "cell_type": "code",
   "execution_count": 36,
   "metadata": {},
   "outputs": [],
   "source": [
    "import yaml\n",
    "\n",
    "config_file = '../config.yaml'\n",
    "\n",
    "# Load configuration file\n",
    "with open(config_file, 'r') as config_file:\n",
    "    config = yaml.safe_load(config_file)\n",
    "\n",
    "# Set the site URL\n",
    "site_url = config['site_url']\n",
    "\n",
    "# Set the username and password\n",
    "username = config['username']\n",
    "password = config['password']\n",
    "\n",
    "# Set the Excel file path\n",
    "input_file_path = config['file_path']\n",
    "\n",
    "# Set the Excel local file path\n",
    "local_path = config['local_path']\n",
    "\n"
   ]
  },
  {
   "cell_type": "code",
   "execution_count": 37,
   "metadata": {},
   "outputs": [
    {
     "name": "stdout",
     "output_type": "stream",
     "text": [
      "No files found in C:/Users/perocha/OneDrive/Documents/Rett/AESR/Tesorero/2023/EXTRACTO BANCO 2024..xlsx\n"
     ]
    }
   ],
   "source": [
    "# Load Excel data into DataFrame\n",
    "try:\n",
    "    # Get list of all files in the input folder\n",
    "    list_of_files = list_files_in_directory(local_file)\n",
    "\n",
    "    # Create a dataframe from each Excel file located in list_of_files\n",
    "    for file in list_of_files:\n",
    "        # Load all Excel file tabs into a dictionary, where each key is a tab name\n",
    "        excel_dict = load_excel_to_dict(local_file, file)\n",
    "\n",
    "        # Remove the extension from the file name\n",
    "        file_name = os.path.splitext(file)[0]\n",
    "        # Create a folder name based on the file name and the output folder\n",
    "        full_filename_path = create_foldername(local_file, file_name)\n",
    "\n",
    "        # Save each tab of the Excel file as a Parquet file\n",
    "        save_dict_to_parquet(excel_dict, full_filename_path)\n",
    "\n",
    "except Exception as e:\n",
    "    print(e)\n"
   ]
  }
 ],
 "metadata": {
  "kernelspec": {
   "display_name": "Python 3",
   "language": "python",
   "name": "python3"
  },
  "language_info": {
   "codemirror_mode": {
    "name": "ipython",
    "version": 3
   },
   "file_extension": ".py",
   "mimetype": "text/x-python",
   "name": "python",
   "nbconvert_exporter": "python",
   "pygments_lexer": "ipython3",
   "version": "3.10.9"
  }
 },
 "nbformat": 4,
 "nbformat_minor": 2
}

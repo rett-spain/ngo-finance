{
 "cells": [
  {
   "cell_type": "markdown",
   "metadata": {},
   "source": [
    "# The following packages are required\n",
    "%pip install openpyxl"
   ]
  },
  {
   "cell_type": "code",
   "execution_count": 7,
   "metadata": {},
   "outputs": [],
   "source": [
    "# Parameters\n",
    "ingestion_output_folder = \"../data/raw\"\n",
    "ingestion_output_file = \"../data/bronze\""
   ]
  },
  {
   "cell_type": "code",
   "execution_count": 8,
   "metadata": {},
   "outputs": [],
   "source": [
    "# Import libraries\n",
    "import json\n",
    "import sys\n",
    "sys.path.append(\"..\")\n",
    "from utils.filesystem import *"
   ]
  },
  {
   "cell_type": "code",
   "execution_count": 9,
   "metadata": {},
   "outputs": [],
   "source": [
    "# Config file path\n",
    "config_file = '../config.json'\n",
    "\n",
    "# Load the config file\n",
    "with open(config_file) as f:\n",
    "    config = json.load(f)\n",
    "\n",
    "# Load the basic config parameters\n",
    "local_path = config['local_path']\n",
    "file_name = config['file_name']\n",
    "sheet_name = config['sheet_name']\n",
    "\n",
    "# Load the config parameters (ingestion transformation)\n",
    "name_mapping = config['name_mapping']\n",
    "columns_to_keep = config['columns_to_keep']\n",
    "\n"
   ]
  },
  {
   "cell_type": "code",
   "execution_count": 10,
   "metadata": {},
   "outputs": [
    {
     "name": "stdout",
     "output_type": "stream",
     "text": [
      "The dataframe has 2503 rows and 17 columns\n"
     ]
    }
   ],
   "source": [
    "# Ignore UserWarning messages\n",
    "import warnings\n",
    "warnings.filterwarnings(\"ignore\", category=UserWarning)\n",
    "\n",
    "# Load a specific worksheet from the Excel file\n",
    "try:\n",
    "    dataframe = load_excel_sheet_to_dataframe (local_path, file_name, sheet_name, 4)\n",
    "\n",
    "    # Count the number of rows and columns\n",
    "    rows, columns = dataframe.shape\n",
    "    print(f\"The dataframe has {rows} rows and {columns} columns\")\n",
    "except Exception as e:\n",
    "    print(f\"An error occurred: {e}\")"
   ]
  },
  {
   "cell_type": "code",
   "execution_count": 11,
   "metadata": {},
   "outputs": [
    {
     "name": "stdout",
     "output_type": "stream",
     "text": [
      "Columns: Index(['date', 'observations', 'amount', 'balance', 'category', 'subcategory',\n",
      "       'detail', 'invoice_number', 'invoice_file_reference'],\n",
      "      dtype='object')\n",
      "Saved output.csv\n",
      "Dataframe saved to ../data/raw\\EXTRACTO BANCO 2024\\2024/05/15/21/56/19/output.csv\n"
     ]
    }
   ],
   "source": [
    "# Rename the columns\n",
    "dataframe = dataframe.rename(columns=name_mapping)\n",
    "\n",
    "# Calculate the columns to drop as the difference between all columns and the columns to keep\n",
    "columns_to_drop = dataframe.columns.difference(columns_to_keep)\n",
    "\n",
    "# Drop the columns\n",
    "dataframe = dataframe.drop(columns=columns_to_drop)\n",
    "\n",
    "# Display the names of the columns\n",
    "print(f\"Columns: {dataframe.columns}\")\n"
   ]
  },
  {
   "cell_type": "code",
   "execution_count": 12,
   "metadata": {},
   "outputs": [
    {
     "name": "stdout",
     "output_type": "stream",
     "text": [
      "Column 'invoice_number' removed\n"
     ]
    }
   ],
   "source": [
    "# Test removing a column\n",
    "try:\n",
    "    dataframe = dataframe.drop(columns=['invoice_number'])\n",
    "    print(f\"Column 'invoice_number' removed\")\n",
    "except Exception as e:\n",
    "    print(f\"An error occurred: {e}\")"
   ]
  },
  {
   "cell_type": "code",
   "execution_count": null,
   "metadata": {},
   "outputs": [],
   "source": [
    "# Persist the dataframe to a CSV file\n",
    "file_path = create_foldername(ingestion_output_folder, file_name.split('.')[0])\n",
    "try:\n",
    "    save_df_to_csv(dataframe, file_path, \"output\")\n",
    "    print(f\"Dataframe saved to {file_path}/output.csv\")\n",
    "except Exception as e:\n",
    "    print(f\"An error occurred: {e}\")"
   ]
  },
  {
   "cell_type": "code",
   "execution_count": 13,
   "metadata": {},
   "outputs": [
    {
     "name": "stdout",
     "output_type": "stream",
     "text": [
      "The latest folder is: ../data/raw\\EXTRACTO BANCO 2024\\2024\\05\\15\\21\\56\\19\n"
     ]
    },
    {
     "data": {
      "text/plain": [
       "'../data/latest\\\\output.csv'"
      ]
     },
     "execution_count": 13,
     "metadata": {},
     "output_type": "execute_result"
    }
   ],
   "source": [
    "import shutil\n",
    "\n",
    "# Find the latest folder\n",
    "latest = find_latest_folder(ingestion_output_folder)\n",
    "print(f\"The latest folder is: {latest}\")\n",
    "\n",
    "# Define the source file and destination directory\n",
    "source_file = latest + '/' + \"output.csv\"\n",
    "destination_dir = '../data/latest'\n",
    "\n",
    "# Use shutil.move() to copy the latest file\n",
    "shutil.copy(source_file, destination_dir)"
   ]
  }
 ],
 "metadata": {
  "kernelspec": {
   "display_name": "Python 3",
   "language": "python",
   "name": "python3"
  },
  "language_info": {
   "codemirror_mode": {
    "name": "ipython",
    "version": 3
   },
   "file_extension": ".py",
   "mimetype": "text/x-python",
   "name": "python",
   "nbconvert_exporter": "python",
   "pygments_lexer": "ipython3",
   "version": "3.10.9"
  }
 },
 "nbformat": 4,
 "nbformat_minor": 2
}

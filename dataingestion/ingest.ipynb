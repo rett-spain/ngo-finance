{
 "cells": [
  {
   "cell_type": "code",
   "execution_count": null,
   "metadata": {},
   "outputs": [],
   "source": [
    "# Install the required packages\n",
    "%pip install pandas Office365-REST-Python-Client\n",
    "%pip install pyyaml"
   ]
  },
  {
   "cell_type": "code",
   "execution_count": null,
   "metadata": {},
   "outputs": [],
   "source": [
    "%pip install openpyxl"
   ]
  },
  {
   "cell_type": "code",
   "execution_count": null,
   "metadata": {},
   "outputs": [],
   "source": [
    "# Import the required libraries\n",
    "from office365.runtime.auth.authentication_context import AuthenticationContext\n",
    "from office365.sharepoint.client_context import ClientContext\n",
    "from office365.sharepoint.files.file import File\n",
    "import io\n",
    "import pandas as pd\n",
    "\n",
    "# Import the utils library\n",
    "import sys\n",
    "sys.path.append(\"..\")\n",
    "from utils.filesystem import *\n"
   ]
  },
  {
   "cell_type": "code",
   "execution_count": null,
   "metadata": {},
   "outputs": [],
   "source": [
    "import json\n",
    "\n",
    "# Config file path\n",
    "config_file = '../config.json'\n",
    "\n",
    "# Load the config file\n",
    "with open(config_file) as f:\n",
    "    config = json.load(f)\n",
    "\n",
    "# Load the config parameters\n",
    "name_mapping = config['name_mapping']\n",
    "columns_to_keep = config['columns_to_keep']\n",
    "site_url = config['site_url']\n",
    "username = config['username']\n",
    "password = config['password']\n",
    "input_file_path = config['file_path']\n",
    "local_path = config['local_path']\n",
    "file_name = config['file_name']\n",
    "sheet_name = config['sheet_name']\n"
   ]
  },
  {
   "cell_type": "code",
   "execution_count": null,
   "metadata": {},
   "outputs": [],
   "source": [
    "# Ignore UserWarning messages\n",
    "import warnings\n",
    "warnings.filterwarnings(\"ignore\", category=UserWarning)\n",
    "\n",
    "# Load a specific worksheet from the Excel file\n",
    "try:\n",
    "    dataframe = load_excel_sheet_to_dataframe (local_path, file_name, sheet_name, 4)\n",
    "\n",
    "    # Display the first 5 rows of the dataframe\n",
    "    print(f\"Dataframe has lenght {len(dataframe)}\")\n",
    "\n",
    "    # Display the first 5 rows of the dataframe\n",
    "    print(dataframe.head())\n",
    "except Exception as e:\n",
    "    print(f\"An error occurred: {e}\")"
   ]
  },
  {
   "cell_type": "code",
   "execution_count": null,
   "metadata": {},
   "outputs": [],
   "source": [
    "# Rename the columns\n",
    "dataframe = dataframe.rename(columns=name_mapping)\n",
    "\n",
    "# Calculate the columns to drop as the difference between all columns and the columns to keep\n",
    "columns_to_drop = dataframe.columns.difference(columns_to_keep)\n",
    "\n",
    "# Drop the columns\n",
    "dataframe = dataframe.drop(columns=columns_to_drop)\n",
    "\n",
    "# Display the first 5 rows of the dataframe\n",
    "print(dataframe.head())"
   ]
  }
 ],
 "metadata": {
  "kernelspec": {
   "display_name": "Python 3",
   "language": "python",
   "name": "python3"
  },
  "language_info": {
   "codemirror_mode": {
    "name": "ipython",
    "version": 3
   },
   "file_extension": ".py",
   "mimetype": "text/x-python",
   "name": "python",
   "nbconvert_exporter": "python",
   "pygments_lexer": "ipython3",
   "version": "3.10.9"
  }
 },
 "nbformat": 4,
 "nbformat_minor": 2
}

{
 "cells": [
  {
   "cell_type": "code",
   "execution_count": 2,
   "metadata": {},
   "outputs": [
    {
     "name": "stdout",
     "output_type": "stream",
     "text": [
      "Requirement already satisfied: pandas in c:\\users\\perocha\\appdata\\local\\anaconda3\\lib\\site-packages (2.1.2)Note: you may need to restart the kernel to use updated packages.\n",
      "\n",
      "Collecting Office365-REST-Python-Client\n",
      "  Downloading Office365_REST_Python_Client-2.5.9-py3-none-any.whl (1.2 MB)\n",
      "     ---------------------------------------- 1.2/1.2 MB 9.3 MB/s eta 0:00:00\n",
      "Requirement already satisfied: numpy<2,>=1.22.4 in c:\\users\\perocha\\appdata\\roaming\\python\\python310\\site-packages (from pandas) (1.24.3)\n",
      "Requirement already satisfied: python-dateutil>=2.8.2 in c:\\users\\perocha\\appdata\\local\\anaconda3\\lib\\site-packages (from pandas) (2.8.2)\n",
      "Requirement already satisfied: pytz>=2020.1 in c:\\users\\perocha\\appdata\\local\\anaconda3\\lib\\site-packages (from pandas) (2022.7)\n",
      "Requirement already satisfied: tzdata>=2022.1 in c:\\users\\perocha\\appdata\\roaming\\python\\python310\\site-packages (from pandas) (2023.3)\n",
      "Requirement already satisfied: typing-extensions>=4.0.0 in c:\\users\\perocha\\appdata\\local\\anaconda3\\lib\\site-packages (from Office365-REST-Python-Client) (4.8.0)\n",
      "Requirement already satisfied: msal in c:\\users\\perocha\\appdata\\local\\anaconda3\\lib\\site-packages (from Office365-REST-Python-Client) (1.24.1)\n",
      "Requirement already satisfied: requests in c:\\users\\perocha\\appdata\\local\\anaconda3\\lib\\site-packages (from Office365-REST-Python-Client) (2.31.0)\n",
      "Requirement already satisfied: six>=1.5 in c:\\users\\perocha\\appdata\\local\\anaconda3\\lib\\site-packages (from python-dateutil>=2.8.2->pandas) (1.16.0)\n",
      "Requirement already satisfied: cryptography<44,>=0.6 in c:\\users\\perocha\\appdata\\local\\anaconda3\\lib\\site-packages (from msal->Office365-REST-Python-Client) (39.0.1)\n",
      "Requirement already satisfied: PyJWT[crypto]<3,>=1.0.0 in c:\\users\\perocha\\appdata\\local\\anaconda3\\lib\\site-packages (from msal->Office365-REST-Python-Client) (2.4.0)\n",
      "Requirement already satisfied: charset-normalizer<4,>=2 in c:\\users\\perocha\\appdata\\local\\anaconda3\\lib\\site-packages (from requests->Office365-REST-Python-Client) (2.0.4)\n",
      "Requirement already satisfied: urllib3<3,>=1.21.1 in c:\\users\\perocha\\appdata\\local\\anaconda3\\lib\\site-packages (from requests->Office365-REST-Python-Client) (1.26.14)\n",
      "Requirement already satisfied: certifi>=2017.4.17 in c:\\users\\perocha\\appdata\\local\\anaconda3\\lib\\site-packages (from requests->Office365-REST-Python-Client) (2022.12.7)\n",
      "Requirement already satisfied: idna<4,>=2.5 in c:\\users\\perocha\\appdata\\local\\anaconda3\\lib\\site-packages (from requests->Office365-REST-Python-Client) (3.4)\n",
      "Requirement already satisfied: cffi>=1.12 in c:\\users\\perocha\\appdata\\local\\anaconda3\\lib\\site-packages (from cryptography<44,>=0.6->msal->Office365-REST-Python-Client) (1.15.1)\n",
      "Requirement already satisfied: pycparser in c:\\users\\perocha\\appdata\\local\\anaconda3\\lib\\site-packages (from cffi>=1.12->cryptography<44,>=0.6->msal->Office365-REST-Python-Client) (2.21)\n",
      "Installing collected packages: Office365-REST-Python-Client\n",
      "Successfully installed Office365-REST-Python-Client-2.5.9\n",
      "Requirement already satisfied: pyyaml in c:\\users\\perocha\\appdata\\roaming\\python\\python310\\site-packages (6.0.1)\n",
      "Note: you may need to restart the kernel to use updated packages.\n"
     ]
    }
   ],
   "source": [
    "# Install the required packages\n",
    "%pip install pandas Office365-REST-Python-Client\n",
    "%pip install pyyaml"
   ]
  },
  {
   "cell_type": "code",
   "execution_count": 3,
   "metadata": {},
   "outputs": [],
   "source": [
    "# Import the required libraries\n",
    "from office365.runtime.auth.authentication_context import AuthenticationContext\n",
    "from office365.sharepoint.client_context import ClientContext\n",
    "import pandas as pd\n"
   ]
  },
  {
   "cell_type": "code",
   "execution_count": 6,
   "metadata": {},
   "outputs": [
    {
     "name": "stdout",
     "output_type": "stream",
     "text": [
      "Site URL: https://your-sharepoint-site.sharepoint.com/sites/your-site/\n",
      "Username: your_username@yourdomain.com\n",
      "Password: your_password\n",
      "File Path: /sites/your-site/Shared Documents/YourFolder/your_excel_file.xlsx\n"
     ]
    }
   ],
   "source": [
    "import yaml\n",
    "\n",
    "config_file = '../config.yaml'\n",
    "\n",
    "# Load configuration file\n",
    "with open(config_file, 'r') as config_file:\n",
    "    config = yaml.safe_load(config_file)\n",
    "\n",
    "# Set the site URL\n",
    "site_url = config['site_url']\n",
    "\n",
    "# Set the username and password\n",
    "username = config['username']\n",
    "password = config['password']\n",
    "\n",
    "# Set the Excel file path\n",
    "input_file_path = config['file_path']\n"
   ]
  },
  {
   "cell_type": "code",
   "execution_count": null,
   "metadata": {},
   "outputs": [],
   "source": [
    "# Authentication context\n",
    "auth_context = AuthenticationContext(site_url)\n",
    "auth_context.acquire_token_for_user(username, password)\n",
    "\n",
    "# Create client context\n",
    "client_context = ClientContext(site_url, auth_context)\n"
   ]
  },
  {
   "cell_type": "code",
   "execution_count": null,
   "metadata": {},
   "outputs": [],
   "source": [
    "# Load Excel data into DataFrame\n",
    "excel_file = client_context.web.get_file_by_server_relative_url(input_file_path)\n",
    "response = excel_file.download()\n",
    "data = response.content\n",
    "df = pd.read_excel(data)\n"
   ]
  }
 ],
 "metadata": {
  "kernelspec": {
   "display_name": "Python 3",
   "language": "python",
   "name": "python3"
  },
  "language_info": {
   "codemirror_mode": {
    "name": "ipython",
    "version": 3
   },
   "file_extension": ".py",
   "mimetype": "text/x-python",
   "name": "python",
   "nbconvert_exporter": "python",
   "pygments_lexer": "ipython3",
   "version": "3.10.9"
  }
 },
 "nbformat": 4,
 "nbformat_minor": 2
}

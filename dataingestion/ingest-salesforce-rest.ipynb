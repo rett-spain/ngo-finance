{
 "cells": [
  {
   "cell_type": "markdown",
   "metadata": {},
   "source": [
    "#### Dependencies\n",
    "Install libraries:\n",
    "    %pip install requests\n",
    "\n",
    "You need a bearer token to access the API"
   ]
  },
  {
   "cell_type": "code",
   "execution_count": 26,
   "metadata": {},
   "outputs": [],
   "source": [
    "# Import util libraries\n",
    "import json\n",
    "import sys\n",
    "sys.path.append(\"..\")\n",
    "from utils.filesystem import *\n",
    "\n",
    "# Import other libraries\n",
    "import requests"
   ]
  },
  {
   "cell_type": "code",
   "execution_count": 27,
   "metadata": {},
   "outputs": [],
   "source": [
    "# Config file path\n",
    "config_file = '../config-salesforce.json'\n",
    "\n",
    "# Load the config file\n",
    "with open(config_file) as f:\n",
    "    config = json.load(f)\n",
    "\n",
    "# Load the config parameters\n",
    "salesforce_tenant = config['salesforce_tenant']\n",
    "salesforce_api_version = config['salesforce_api_version']\n",
    "salesforce_bearer_token = config['salesforce_bearer_token']\n"
   ]
  },
  {
   "cell_type": "code",
   "execution_count": 32,
   "metadata": {},
   "outputs": [
    {
     "name": "stdout",
     "output_type": "stream",
     "text": [
      "Socio ordinario\n",
      "Socio colaborador\n",
      "Donante particular\n",
      "Donante empresa\n",
      "Socio de honor\n",
      "No socio\n",
      "Baja\n",
      "Pendiente documentación\n"
     ]
    }
   ],
   "source": [
    "# Replace these with your actual values\n",
    "object_api_name = 'Contact'\n",
    "field_name = 'ContactType__c'\n",
    "\n",
    "# Set up the API endpoint URL\n",
    "url = f'{salesforce_tenant}/services/data/{salesforce_api_version}/sobjects/{object_api_name}/describe'\n",
    "\n",
    "# Set up the headers for the API request\n",
    "headers = {\n",
    "    'Authorization': f'Bearer {salesforce_bearer_token}',\n",
    "    'Content-Type': 'application/json'\n",
    "}\n",
    "\n",
    "# Make the API request\n",
    "response = requests.get(url, headers=headers)\n",
    "\n",
    "# Check if the request was successful\n",
    "if response.status_code == 200:\n",
    "    # Parse the response JSON\n",
    "    data = response.json()\n",
    "\n",
    "    # Extract the field metadata\n",
    "    fields = data['fields']\n",
    "\n",
    "    # Find the field with the name 'ContactType__c'\n",
    "    contact_type_field = next((field for field in fields if field['name'] == 'ContactType__c'), None)\n",
    "\n",
    "    if contact_type_field is not None:\n",
    "        # Extract the picklist values\n",
    "        picklist_values = contact_type_field['picklistValues']\n",
    "\n",
    "        # Print the picklist values\n",
    "        for value in picklist_values:\n",
    "            print(value['value'])\n",
    "    else:\n",
    "        print('Field not found')\n",
    "\n",
    "else:\n",
    "    # If the request was not successful, print the status code and error message\n",
    "    print(f'Error: {response.status_code}')\n",
    "    print(response.text)\n"
   ]
  }
 ],
 "metadata": {
  "kernelspec": {
   "display_name": "base",
   "language": "python",
   "name": "python3"
  },
  "language_info": {
   "codemirror_mode": {
    "name": "ipython",
    "version": 3
   },
   "file_extension": ".py",
   "mimetype": "text/x-python",
   "name": "python",
   "nbconvert_exporter": "python",
   "pygments_lexer": "ipython3",
   "version": "3.10.9"
  }
 },
 "nbformat": 4,
 "nbformat_minor": 2
}

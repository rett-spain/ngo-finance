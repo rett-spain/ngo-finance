{
 "cells": [
  {
   "cell_type": "markdown",
   "metadata": {},
   "source": [
    "# Transform\n",
    "\n",
    "Get the latest ingested file and perform transformations in the dataframe."
   ]
  },
  {
   "cell_type": "code",
   "execution_count": 6,
   "metadata": {},
   "outputs": [],
   "source": [
    "# Parameters\n",
    "ingestion_output_folder = \"../data/raw\"\n"
   ]
  },
  {
   "cell_type": "code",
   "execution_count": 7,
   "metadata": {},
   "outputs": [],
   "source": [
    "# Import libraries\n",
    "import json\n",
    "import sys\n",
    "sys.path.append(\"..\")\n",
    "from utils.filesystem import *"
   ]
  },
  {
   "cell_type": "code",
   "execution_count": 8,
   "metadata": {},
   "outputs": [
    {
     "name": "stdout",
     "output_type": "stream",
     "text": [
      "The latest folder is: ../data/raw\\EXTRACTO BANCO 2024\\2024\\05\\17\\10\\39\\59\n"
     ]
    },
    {
     "data": {
      "text/plain": [
       "'../data/latest\\\\output.csv'"
      ]
     },
     "execution_count": 8,
     "metadata": {},
     "output_type": "execute_result"
    }
   ],
   "source": [
    "import shutil\n",
    "\n",
    "# Find the latest folder\n",
    "latest = find_latest_folder(ingestion_output_folder)\n",
    "print(f\"The latest folder is: {latest}\")\n",
    "\n",
    "# Define the source file and destination directory\n",
    "source_file = latest + '/' + \"output.csv\"\n",
    "destination_dir = '../data/latest'\n",
    "\n",
    "# Use shutil.move() to copy the latest file\n",
    "shutil.copy(source_file, destination_dir)"
   ]
  }
 ],
 "metadata": {
  "kernelspec": {
   "display_name": "base",
   "language": "python",
   "name": "python3"
  },
  "language_info": {
   "codemirror_mode": {
    "name": "ipython",
    "version": 3
   },
   "file_extension": ".py",
   "mimetype": "text/x-python",
   "name": "python",
   "nbconvert_exporter": "python",
   "pygments_lexer": "ipython3",
   "version": "3.10.9"
  }
 },
 "nbformat": 4,
 "nbformat_minor": 2
}

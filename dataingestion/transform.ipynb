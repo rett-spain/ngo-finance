{
 "cells": [
  {
   "cell_type": "markdown",
   "metadata": {},
   "source": [
    "# Transform\n",
    "\n",
    "Get the latest ingested file and perform transformations in the dataframe."
   ]
  },
  {
   "cell_type": "code",
   "execution_count": 15,
   "metadata": {},
   "outputs": [],
   "source": [
    "# Parameters\n",
    "ingestion_output_folder = \"../data/raw\"\n"
   ]
  },
  {
   "cell_type": "code",
   "execution_count": 16,
   "metadata": {},
   "outputs": [],
   "source": [
    "# Import libraries\n",
    "import json\n",
    "import sys\n",
    "sys.path.append(\"..\")\n",
    "from utils.filesystem import *"
   ]
  },
  {
   "cell_type": "code",
   "execution_count": 17,
   "metadata": {},
   "outputs": [
    {
     "name": "stdout",
     "output_type": "stream",
     "text": [
      "The latest folder is: ../data/raw\\EXTRACTO BANCO 2024\\2024\\05\\19\\23\\53\\19\n"
     ]
    },
    {
     "data": {
      "text/plain": [
       "'../data/latest\\\\output.parquet'"
      ]
     },
     "execution_count": 17,
     "metadata": {},
     "output_type": "execute_result"
    }
   ],
   "source": [
    "import shutil\n",
    "\n",
    "# Find the latest folder\n",
    "latest = find_latest_folder(ingestion_output_folder)\n",
    "print(f\"The latest folder is: {latest}\")\n",
    "\n",
    "# Define the source file and destination directory\n",
    "source_file = latest + '/' + \"output.parquet\"\n",
    "destination_dir = '../data/latest'\n",
    "\n",
    "# Use shutil.move() to copy the latest file\n",
    "shutil.copy(source_file, destination_dir)"
   ]
  },
  {
   "cell_type": "code",
   "execution_count": 21,
   "metadata": {},
   "outputs": [
    {
     "name": "stdout",
     "output_type": "stream",
     "text": [
      "The first 5 rows of the dataframe output:\n",
      "         date                   observations  amount   balance    category  \\\n",
      "0  2022-12-30  ANTONIO AURELIO BURGUI ESLAVA  700.00  43434.99  Donaciones   \n",
      "1  2023-01-02          ERIKA MERE MALPARTIDA   35.00  43469.99      Cuotas   \n",
      "2  2023-01-02            BULTO MILLET VICTOR   30.00  43499.99      Cuotas   \n",
      "3  2023-01-02  IBERDROLA 355636 293749153000  -27.65  43472.34      Gastos   \n",
      "4  2023-01-03           MARTA MARTIN DE BLAS   70.00  43542.34      Cuotas   \n",
      "\n",
      "           subcategory                 detail      invoice_number  \\\n",
      "0  Donación Particular                Finrett          Donaciones   \n",
      "1    Cuota Socio Anual      Cuota socio anual     socio ordinario   \n",
      "2  Cuota Socio Mensual    cuota socio mensual  socio colaborador    \n",
      "3         Electricidad  Electricidad Valencia               48646   \n",
      "4    Cuota Socio Anual      Cuota socio anual     socio ordinario   \n",
      "\n",
      "                      invoice_file_reference  \n",
      "0               Donación particular  Finrett  \n",
      "1                           cuota socio 2022  \n",
      "2                           cuota socio 2023  \n",
      "3  factura_2022_12_23 Cure Energia Iberdrola  \n",
      "4                           cuota socio 2022  \n",
      "dict_keys(['output'])\n"
     ]
    }
   ],
   "source": [
    "# Load the csv file to the dataframe\n",
    "dataframe = load_parquet_files(latest)\n",
    "\n",
    "# Print the first 5 rows of the dataframe dictionary\n",
    "for key in dataframe.keys():\n",
    "    print(f\"The first 5 rows of the dataframe {key}:\")\n",
    "    print(dataframe[key].head(5))\n"
   ]
  },
  {
   "cell_type": "code",
   "execution_count": null,
   "metadata": {},
   "outputs": [],
   "source": [
    "# Round the amount and balance columns to 2 decimal places\n",
    "dataframe['amount'] = dataframe['amount'].round(2)\n",
    "dataframe['balance'] = dataframe['balance'].round(2)\n",
    "\n",
    "# Save the dataframe to a new csv file\n",
    "dataframe.to_csv(destination_dir + '/output-updated.csv', index=False)"
   ]
  }
 ],
 "metadata": {
  "kernelspec": {
   "display_name": "base",
   "language": "python",
   "name": "python3"
  },
  "language_info": {
   "codemirror_mode": {
    "name": "ipython",
    "version": 3
   },
   "file_extension": ".py",
   "mimetype": "text/x-python",
   "name": "python",
   "nbconvert_exporter": "python",
   "pygments_lexer": "ipython3",
   "version": "3.10.9"
  }
 },
 "nbformat": 4,
 "nbformat_minor": 2
}

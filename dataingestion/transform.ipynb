{
 "cells": [
  {
   "cell_type": "markdown",
   "metadata": {},
   "source": [
    "# Transform\n",
    "\n",
    "Get the latest ingested file and perform transformations in the dataframe."
   ]
  },
  {
   "cell_type": "code",
   "execution_count": 39,
   "metadata": {},
   "outputs": [],
   "source": [
    "# Parameters\n",
    "transformation_input_folder = \"../data/raw\"\n",
    "transformation_output_folder = \"../data/bronze\""
   ]
  },
  {
   "cell_type": "code",
   "execution_count": 40,
   "metadata": {},
   "outputs": [],
   "source": [
    "# Import libraries\n",
    "import json\n",
    "import sys\n",
    "sys.path.append(\"..\")\n",
    "from utils.filesystem import *"
   ]
  },
  {
   "cell_type": "code",
   "execution_count": 41,
   "metadata": {},
   "outputs": [
    {
     "name": "stdout",
     "output_type": "stream",
     "text": [
      "The latest folder is: ../data/raw\\EXTRACTO BANCO 2024\\2024\\05\\20\\00\\05\\08\n",
      "The dataframe transactions has 2503 rows and 9 columns.\n"
     ]
    }
   ],
   "source": [
    "# Find the latest folder\n",
    "latest = find_latest_folder(transformation_input_folder)\n",
    "print(f\"The latest folder is: {latest}\")\n",
    "\n",
    "# Load the csv file to the dataframe\n",
    "dataframe = load_parquet_files(latest)\n",
    "\n",
    "# Print the number of rows and columns of the dataframe\n",
    "for key in dataframe.keys():\n",
    "    print(f\"The dataframe {key} has {dataframe[key].shape[0]} rows and {dataframe[key].shape[1]} columns.\")\n"
   ]
  },
  {
   "cell_type": "code",
   "execution_count": 44,
   "metadata": {},
   "outputs": [
    {
     "name": "stdout",
     "output_type": "stream",
     "text": [
      "The number of transactions is: 2503\n"
     ]
    }
   ],
   "source": [
    "# Basic transformations\n",
    "\n",
    "df = dataframe['transactions']\n",
    "\n",
    "# Round the amount and balance columns to 2 decimal places\n",
    "df['amount'] = df['amount'].round(2)\n",
    "df['balance'] = df['balance'].round(2)\n",
    "\n",
    "# Trim the whitespace from the columns with a for loop\n",
    "for column in df.columns:\n",
    "    if df[column].dtype == 'object':\n",
    "        df[column] = df[column].str.strip()\n",
    "\n",
    "# Count the number of transactions\n",
    "n_transactions = df.shape[0]\n",
    "print(f\"The number of transactions is: {n_transactions}\")"
   ]
  },
  {
   "cell_type": "code",
   "execution_count": 45,
   "metadata": {},
   "outputs": [
    {
     "name": "stdout",
     "output_type": "stream",
     "text": [
      "Saved transactions.csv\n"
     ]
    }
   ],
   "source": [
    "# Save the dataframe to a csv file\n",
    "save_df_to_csv(df, transformation_output_folder, 'transactions')"
   ]
  }
 ],
 "metadata": {
  "kernelspec": {
   "display_name": "base",
   "language": "python",
   "name": "python3"
  },
  "language_info": {
   "codemirror_mode": {
    "name": "ipython",
    "version": 3
   },
   "file_extension": ".py",
   "mimetype": "text/x-python",
   "name": "python",
   "nbconvert_exporter": "python",
   "pygments_lexer": "ipython3",
   "version": "3.10.9"
  }
 },
 "nbformat": 4,
 "nbformat_minor": 2
}

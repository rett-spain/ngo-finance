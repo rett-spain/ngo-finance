{
 "cells": [
  {
   "cell_type": "code",
   "execution_count": 18,
   "metadata": {},
   "outputs": [],
   "source": [
    "# Dependencies: install the psycopg2-binary package\n",
    "# %pip install psycopg2-binary\n",
    "# %pip install sqlalchemy"
   ]
  },
  {
   "cell_type": "code",
   "execution_count": 19,
   "metadata": {},
   "outputs": [],
   "source": [
    "# Import libraries\n",
    "import json\n",
    "import sys\n",
    "sys.path.append(\"..\")\n",
    "from utils.filesystem import *\n",
    "\n",
    "# Import postgresql library and sqlalchemy\n",
    "import psycopg2\n",
    "from sqlalchemy import create_engine"
   ]
  },
  {
   "cell_type": "code",
   "execution_count": 20,
   "metadata": {},
   "outputs": [],
   "source": [
    "# Config file path\n",
    "config_file = '../config.json'\n",
    "\n",
    "# Load the config file\n",
    "with open(config_file) as f:\n",
    "    config = json.load(f)\n",
    "\n",
    "# Load the basic config parameters\n",
    "retool_psql = config['retool_psql']\n",
    "retool_postgress_conection = config['retool_postgress_conection']"
   ]
  },
  {
   "cell_type": "code",
   "execution_count": 21,
   "metadata": {},
   "outputs": [
    {
     "name": "stdout",
     "output_type": "stream",
     "text": [
      "   id    categoryName\n",
      "0   1          Cuotas\n",
      "1   2      Donaciones\n",
      "2   3    Subvenciones\n",
      "3   4          Gastos\n",
      "4   5         Eventos\n",
      "5   6  Administrativo\n",
      "6   7     Actividades\n"
     ]
    }
   ],
   "source": [
    "# Create an SQLAlchemy engine\n",
    "engine = create_engine(retool_postgress_conection)\n",
    "\n",
    "# Query the table with the correct case sensitivity\n",
    "query = 'SELECT * FROM \"transactionCategories\";'\n",
    "\n",
    "# Fetch data into DataFrame using SQLAlchemy engine\n",
    "df = pd.read_sql_query(query, engine)\n",
    "\n",
    "# Display the DataFrame\n",
    "print(df)"
   ]
  }
 ],
 "metadata": {
  "kernelspec": {
   "display_name": "base",
   "language": "python",
   "name": "python3"
  },
  "language_info": {
   "codemirror_mode": {
    "name": "ipython",
    "version": 3
   },
   "file_extension": ".py",
   "mimetype": "text/x-python",
   "name": "python",
   "nbconvert_exporter": "python",
   "pygments_lexer": "ipython3",
   "version": "3.10.9"
  }
 },
 "nbformat": 4,
 "nbformat_minor": 2
}

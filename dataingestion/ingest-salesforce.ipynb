{
 "cells": [
  {
   "cell_type": "code",
   "execution_count": 1,
   "metadata": {},
   "outputs": [],
   "source": [
    "# Import libraries\n",
    "import json\n",
    "import sys\n",
    "sys.path.append(\"..\")\n",
    "from utils.filesystem import *\n",
    "from utils.salesforce import *"
   ]
  },
  {
   "cell_type": "code",
   "execution_count": 2,
   "metadata": {},
   "outputs": [],
   "source": [
    "# Config file path\n",
    "config_file = '../config.json'\n",
    "\n",
    "# Load the config file\n",
    "with open(config_file) as f:\n",
    "    config = json.load(f)\n",
    "\n",
    "# Load the basic config parameters\n",
    "username = config['salesforce_username']\n",
    "password = config['salesforce_password']\n",
    "security_token = config[\"salesforce_token\"]"
   ]
  },
  {
   "cell_type": "code",
   "execution_count": 3,
   "metadata": {},
   "outputs": [
    {
     "name": "stdout",
     "output_type": "stream",
     "text": [
      "Authentication successful\n",
      "Exported 896 contacts to ../data/raw/contacts_export.csv\n",
      "Contacts exported to ../data/raw/contacts_export.csv\n"
     ]
    }
   ],
   "source": [
    "# Create a SalesForceAPI object\n",
    "sf_api = SalesForceAPI(username, password, security_token)\n",
    "\n",
    "# Authenticate and export contacts to CSV\n",
    "if sf_api.authenticate():\n",
    "    print(\"Authentication successful\")\n",
    "\n",
    "    # Export contacts to CSV\n",
    "    file_path = '../data/raw/contacts_export.csv'\n",
    "    sf_api.export_basic_contact_info_to_csv(file_path)\n",
    "    print(f\"Contacts exported to {file_path}\")\n",
    "else:\n",
    "    print(\"Authentication failed\")"
   ]
  },
  {
   "cell_type": "code",
   "execution_count": 4,
   "metadata": {},
   "outputs": [
    {
     "name": "stdout",
     "output_type": "stream",
     "text": [
      "{'records': [OrderedDict([('attributes', OrderedDict([('type', 'Transaction__c'), ('url', '/services/data/v52.0/sobjects/Transaction__c/a1iMI0000040RE1YAM')])), ('Name', 'Test owner contact'), ('Contact__c', '0033X00002rGwhEQAS')]), OrderedDict([('attributes', OrderedDict([('type', 'Transaction__c'), ('url', '/services/data/v52.0/sobjects/Transaction__c/a1iMI0000040YNZYA2')])), ('Name', 'Test owner patient'), ('Contact__c', None)]), OrderedDict([('attributes', OrderedDict([('type', 'Transaction__c'), ('url', '/services/data/v52.0/sobjects/Transaction__c/a1iMI0000040kgTYAQ')])), ('Name', 'Test no owner'), ('Contact__c', None)]), OrderedDict([('attributes', OrderedDict([('type', 'Transaction__c'), ('url', '/services/data/v52.0/sobjects/Transaction__c/a1iMI0000042lN7YAI')])), ('Name', 'Test1'), ('Contact__c', None)]), OrderedDict([('attributes', OrderedDict([('type', 'Transaction__c'), ('url', '/services/data/v52.0/sobjects/Transaction__c/a1iMI0000042lN8YAI')])), ('Name', 'Test2'), ('Contact__c', None)]), OrderedDict([('attributes', OrderedDict([('type', 'Transaction__c'), ('url', '/services/data/v52.0/sobjects/Transaction__c/a1iMI0000042lN9YAI')])), ('Name', 'Test3'), ('Contact__c', None)]), OrderedDict([('attributes', OrderedDict([('type', 'Transaction__c'), ('url', '/services/data/v52.0/sobjects/Transaction__c/a1iMI0000048caTYAQ')])), ('Name', 'Donation April'), ('Contact__c', None)]), OrderedDict([('attributes', OrderedDict([('type', 'Transaction__c'), ('url', '/services/data/v52.0/sobjects/Transaction__c/a1iMI0000048caUYAQ')])), ('Name', 'Expense March'), ('Contact__c', None)]), OrderedDict([('attributes', OrderedDict([('type', 'Transaction__c'), ('url', '/services/data/v52.0/sobjects/Transaction__c/a1iMI0000048caVYAQ')])), ('Name', 'Membership Fee February'), ('Contact__c', None)]), OrderedDict([('attributes', OrderedDict([('type', 'Transaction__c'), ('url', '/services/data/v52.0/sobjects/Transaction__c/a1iMI0000048caWYAQ')])), ('Name', 'Activity January'), ('Contact__c', None)]), OrderedDict([('attributes', OrderedDict([('type', 'Transaction__c'), ('url', '/services/data/v52.0/sobjects/Transaction__c/a1iMI0000048caXYAQ')])), ('Name', 'Administrative Expense May'), ('Contact__c', None)]), OrderedDict([('attributes', OrderedDict([('type', 'Transaction__c'), ('url', '/services/data/v52.0/sobjects/Transaction__c/a1iMI0000048caYYAQ')])), ('Name', 'Membership Fee June'), ('Contact__c', None)]), OrderedDict([('attributes', OrderedDict([('type', 'Transaction__c'), ('url', '/services/data/v52.0/sobjects/Transaction__c/a1iMI0000048caZYAQ')])), ('Name', 'Donation July'), ('Contact__c', None)]), OrderedDict([('attributes', OrderedDict([('type', 'Transaction__c'), ('url', '/services/data/v52.0/sobjects/Transaction__c/a1iMI0000048caaYAA')])), ('Name', 'Expense August'), ('Contact__c', None)]), OrderedDict([('attributes', OrderedDict([('type', 'Transaction__c'), ('url', '/services/data/v52.0/sobjects/Transaction__c/a1iMI0000048cabYAA')])), ('Name', 'Membership Fee September'), ('Contact__c', None)]), OrderedDict([('attributes', OrderedDict([('type', 'Transaction__c'), ('url', '/services/data/v52.0/sobjects/Transaction__c/a1iMI0000048cacYAA')])), ('Name', 'Subsidy October'), ('Contact__c', None)]), OrderedDict([('attributes', OrderedDict([('type', 'Transaction__c'), ('url', '/services/data/v52.0/sobjects/Transaction__c/a1iMI0000048cadYAA')])), ('Name', 'Activity November'), ('Contact__c', None)]), OrderedDict([('attributes', OrderedDict([('type', 'Transaction__c'), ('url', '/services/data/v52.0/sobjects/Transaction__c/a1iMI0000048caeYAA')])), ('Name', 'Administrative Expense December'), ('Contact__c', None)]), OrderedDict([('attributes', OrderedDict([('type', 'Transaction__c'), ('url', '/services/data/v52.0/sobjects/Transaction__c/a1iMI0000048cafYAA')])), ('Name', 'Donation January'), ('Contact__c', None)]), OrderedDict([('attributes', OrderedDict([('type', 'Transaction__c'), ('url', '/services/data/v52.0/sobjects/Transaction__c/a1iMI0000048cagYAA')])), ('Name', 'Expense February'), ('Contact__c', None)]), OrderedDict([('attributes', OrderedDict([('type', 'Transaction__c'), ('url', '/services/data/v52.0/sobjects/Transaction__c/a1iMI0000048cahYAA')])), ('Name', 'Subsidy March'), ('Contact__c', None)])], 'totalSize': 21, 'done': True}\n"
     ]
    }
   ],
   "source": [
    "# Execute SOQL query\n",
    "query = \"SELECT Name, Contact__c FROM Transaction__c\"\n",
    "result = sf_api.execute_soql_query(query)\n",
    "print(result)"
   ]
  },
  {
   "cell_type": "code",
   "execution_count": 5,
   "metadata": {},
   "outputs": [
    {
     "name": "stdout",
     "output_type": "stream",
     "text": [
      "Exported 21 contacts to ../data/raw/transactions_export.csv\n"
     ]
    }
   ],
   "source": [
    "# Export query result to CSV\n",
    "file_path = '../data/raw/transactions_export.csv'\n",
    "soql_query = \"SELECT Name, Date__c, Amount__c, Category__c, Contact__c, PersonaRett__c, TransactionOwnerId__c, TransactionOwnerType__c FROM Transaction__c\"\n",
    "sf_api.export_to_csv(file_path, soql_query)"
   ]
  }
 ],
 "metadata": {
  "kernelspec": {
   "display_name": "base",
   "language": "python",
   "name": "python3"
  },
  "language_info": {
   "codemirror_mode": {
    "name": "ipython",
    "version": 3
   },
   "file_extension": ".py",
   "mimetype": "text/x-python",
   "name": "python",
   "nbconvert_exporter": "python",
   "pygments_lexer": "ipython3",
   "version": "3.10.9"
  }
 },
 "nbformat": 4,
 "nbformat_minor": 2
}

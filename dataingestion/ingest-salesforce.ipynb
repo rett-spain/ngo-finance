{
 "cells": [
  {
   "cell_type": "code",
   "execution_count": null,
   "metadata": {},
   "outputs": [],
   "source": [
    "#%pip install simple-salesforce"
   ]
  },
  {
   "cell_type": "code",
   "execution_count": 3,
   "metadata": {},
   "outputs": [],
   "source": [
    "# Import libraries\n",
    "import json\n",
    "import sys\n",
    "sys.path.append(\"..\")\n",
    "from utils.filesystem import *\n",
    "from utils.salesforce import *"
   ]
  },
  {
   "cell_type": "code",
   "execution_count": 8,
   "metadata": {},
   "outputs": [],
   "source": [
    "# Config file path\n",
    "config_file = '../config.json'\n",
    "\n",
    "# Load the config file\n",
    "with open(config_file) as f:\n",
    "    config = json.load(f)\n",
    "\n",
    "# Load the basic config parameters\n",
    "username = config['salesforce_username']\n",
    "password = config['salesforce_password']\n",
    "security_token = config[\"salesforce_token\"]"
   ]
  },
  {
   "cell_type": "code",
   "execution_count": 11,
   "metadata": {},
   "outputs": [
    {
     "name": "stdout",
     "output_type": "stream",
     "text": [
      "Authentication successful\n",
      "Exported 894 contacts to ../data/raw/contacts_export.csv\n",
      "Contacts exported to ../data/raw/contacts_export.csv\n"
     ]
    }
   ],
   "source": [
    "# Create a SalesForceAPI object\n",
    "sf_api = SalesForceAPI(username, password, security_token)\n",
    "\n",
    "# Authenticate and export contacts to CSV\n",
    "if sf_api.authenticate():\n",
    "    print(\"Authentication successful\")\n",
    "\n",
    "    # Export contacts to CSV\n",
    "    file_path = '../data/raw/contacts_export.csv'\n",
    "    sf_api.export_contacts_to_csv(file_path)\n",
    "    print(f\"Contacts exported to {file_path}\")\n",
    "else:\n",
    "    print(\"Authentication failed\")"
   ]
  }
 ],
 "metadata": {
  "kernelspec": {
   "display_name": "base",
   "language": "python",
   "name": "python3"
  },
  "language_info": {
   "codemirror_mode": {
    "name": "ipython",
    "version": 3
   },
   "file_extension": ".py",
   "mimetype": "text/x-python",
   "name": "python",
   "nbconvert_exporter": "python",
   "pygments_lexer": "ipython3",
   "version": "3.10.9"
  }
 },
 "nbformat": 4,
 "nbformat_minor": 2
}

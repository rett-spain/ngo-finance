{
 "cells": [
  {
   "cell_type": "code",
   "execution_count": 1,
   "metadata": {},
   "outputs": [],
   "source": [
    "# Import libraries\n",
    "import json\n",
    "import sys\n",
    "sys.path.append(\"..\")\n",
    "from utils.filesystem import *\n",
    "from utils.paypal_api import PayPalAPI"
   ]
  },
  {
   "cell_type": "code",
   "execution_count": 2,
   "metadata": {},
   "outputs": [],
   "source": [
    "# Config file path\n",
    "config_file = '../config-paypal.json'\n",
    "\n",
    "# Load the config file\n",
    "with open(config_file) as f:\n",
    "    config = json.load(f)\n",
    "\n",
    "# Load the basic config parameters\n",
    "paypal_client_id = config['paypal_client_id']\n",
    "paypal_client_secret = config['paypal_client_secret']\n",
    "paypal_base_url = config[\"paypal_base_url\"]\n",
    "paypal_token_url = config[\"paypal_token_url\"]"
   ]
  },
  {
   "cell_type": "code",
   "execution_count": 3,
   "metadata": {},
   "outputs": [],
   "source": [
    "# Create an instance of the PayPalAPI class and get an access token\n",
    "my_paypal = PayPalAPI(paypal_client_id,\n",
    "                      paypal_client_secret,\n",
    "                      paypal_base_url,\n",
    "                      paypal_token_url)\n",
    "access_token = my_paypal.get_access_token()\n"
   ]
  },
  {
   "cell_type": "code",
   "execution_count": 9,
   "metadata": {},
   "outputs": [
    {
     "name": "stdout",
     "output_type": "stream",
     "text": [
      "Number of January transactions:  4\n",
      "Number of February transactions:  4\n",
      "Number of March transactions:  6\n",
      "transaction_info\n",
      "paypal_account_id\n",
      "transaction_id\n",
      "transaction_event_code\n",
      "transaction_initiation_date\n",
      "transaction_updated_date\n",
      "transaction_amount\n",
      "currency_code\n",
      "value\n",
      "fee_amount\n",
      "currency_code\n",
      "value\n",
      "transaction_status\n",
      "ending_balance\n",
      "currency_code\n",
      "value\n",
      "available_balance\n",
      "currency_code\n",
      "value\n",
      "protection_eligibility\n",
      "payer_info\n",
      "account_id\n",
      "email_address\n",
      "address_status\n",
      "payer_status\n",
      "payer_name\n",
      "given_name\n",
      "surname\n",
      "alternate_full_name\n",
      "country_code\n",
      "shipping_info\n",
      "name\n",
      "address\n",
      "line1\n",
      "city\n",
      "state\n",
      "country_code\n",
      "postal_code\n",
      "cart_info\n",
      "item_details\n",
      "item_quantity\n",
      "item_unit_price\n",
      "currency_code\n",
      "value\n",
      "item_amount\n",
      "currency_code\n",
      "value\n",
      "total_item_amount\n",
      "currency_code\n",
      "value\n",
      "store_info\n",
      "auction_info\n",
      "incentive_info\n"
     ]
    }
   ],
   "source": [
    "# List the transactions for all months in 2023\n",
    "try:\n",
    "    transactions_january = my_paypal.list_transactions('2023-01-01T00:00:00Z', '2023-01-31T23:59:59Z')\n",
    "    transactions_february = my_paypal.list_transactions('2023-02-01T00:00:00Z', '2023-02-28T23:59:59Z')\n",
    "    transactions_march = my_paypal.list_transactions('2023-03-01T00:00:00Z', '2023-03-31T23:59:59Z')\n",
    "except Exception as e:\n",
    "    print(e)\n",
    "\n",
    "# Print the count of transactions for each month\n",
    "print(\"Number of January transactions: \", len(transactions_january))\n",
    "print(\"Number of February transactions: \", len(transactions_february))\n",
    "print(\"Number of March transactions: \", len(transactions_march))\n",
    "\n",
    "# Print the json keys for the first transaction in January, including the nested keys\n",
    "def print_keys(json_obj):\n",
    "    if isinstance(json_obj, dict):\n",
    "        for key in json_obj:\n",
    "            print(key)\n",
    "            print_keys(json_obj[key])\n",
    "    elif isinstance(json_obj, list):\n",
    "        for item in json_obj:\n",
    "            print_keys(item)\n",
    "\n",
    "print_keys(transactions_january[0])"
   ]
  }
 ],
 "metadata": {
  "kernelspec": {
   "display_name": "base",
   "language": "python",
   "name": "python3"
  },
  "language_info": {
   "codemirror_mode": {
    "name": "ipython",
    "version": 3
   },
   "file_extension": ".py",
   "mimetype": "text/x-python",
   "name": "python",
   "nbconvert_exporter": "python",
   "pygments_lexer": "ipython3",
   "version": "3.10.9"
  }
 },
 "nbformat": 4,
 "nbformat_minor": 2
}

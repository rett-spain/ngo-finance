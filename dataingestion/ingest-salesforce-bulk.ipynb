{
 "cells": [
  {
   "cell_type": "code",
   "execution_count": 34,
   "metadata": {},
   "outputs": [],
   "source": [
    "# Import libraries\n",
    "import json\n",
    "import sys\n",
    "sys.path.append(\"..\")\n",
    "from utils.filesystem import *\n",
    "from utils.salesforce import *"
   ]
  },
  {
   "cell_type": "code",
   "execution_count": 35,
   "metadata": {},
   "outputs": [],
   "source": [
    "# Config file path\n",
    "config_file = '../config-salesforce.json'\n",
    "\n",
    "# Load the config file\n",
    "with open(config_file) as f:\n",
    "    config = json.load(f)\n",
    "\n",
    "# Load the basic config parameters\n",
    "username = config['salesforce_username']\n",
    "password = config['salesforce_password']\n",
    "security_token = config[\"salesforce_token\"]\n",
    "\n",
    "# Load file config\n",
    "input_folder = \".\"\n",
    "input_file = config['bulk_import_file']"
   ]
  },
  {
   "cell_type": "code",
   "execution_count": 36,
   "metadata": {},
   "outputs": [
    {
     "name": "stdout",
     "output_type": "stream",
     "text": [
      "The dataframe has 3 rows and 6 columns\n",
      "    Name     Date__c  Amount__c Category__c Contact__c PersonaRett__c\n",
      "0  Test1  2024-04-01      23.00  Donaciones                          \n",
      "1  Test2  2024-03-02     -20.42      Gastos                          \n",
      "2  Test3  2024-02-03      55.00      Cuotas                          \n"
     ]
    },
    {
     "name": "stderr",
     "output_type": "stream",
     "text": [
      "C:\\Users\\perocha\\AppData\\Local\\Temp\\ipykernel_31604\\1685558817.py:14: FutureWarning: Setting an item of incompatible dtype is deprecated and will raise in a future error of pandas. Value '' has dtype incompatible with float64, please explicitly cast to a compatible dtype first.\n",
      "  dataframe.fillna(\"\", inplace=True)\n"
     ]
    }
   ],
   "source": [
    "# Ignore UserWarning messages\n",
    "import warnings\n",
    "warnings.filterwarnings(\"ignore\", category=UserWarning)\n",
    "import numpy as np\n",
    "\n",
    "# Load a specific worksheet from the Excel file\n",
    "try:\n",
    "    dataframe = load_csv_to_dataframe (input_folder, input_file, 0)\n",
    "\n",
    "    # Replace inf and -inf with the maximum and minimum representable finite float numbers\n",
    "    dataframe.replace([np.inf, -np.inf], [np.finfo(np.float64).max, np.finfo(np.float64).min], inplace=True)\n",
    "\n",
    "    # Replace NaN with a default value (e.g., 0 or None)\n",
    "    dataframe.fillna(\"\", inplace=True)\n",
    "\n",
    "    # Count the number of rows and columns\n",
    "    rows, columns = dataframe.shape\n",
    "    print(f\"The dataframe has {rows} rows and {columns} columns\")\n",
    "    print(dataframe)\n",
    "\n",
    "except Exception as e:\n",
    "    print(f\"An error occurred: {e}\")"
   ]
  },
  {
   "cell_type": "code",
   "execution_count": 37,
   "metadata": {},
   "outputs": [
    {
     "name": "stdout",
     "output_type": "stream",
     "text": [
      "Authentication successful\n",
      "Importing 3 records into Salesforce\n",
      "Uploaded 3 transactions\n",
      "True\n"
     ]
    }
   ],
   "source": [
    "# Create a SalesForceAPI object\n",
    "sf_api = SalesForceAPI(username, password, security_token)\n",
    "\n",
    "# Authenticate and export contacts to CSV\n",
    "if sf_api.authenticate():\n",
    "    print(\"Authentication successful\")\n",
    "\n",
    "    # Bulk import the data into Salesforce\n",
    "    records = dataframe.to_dict(orient='records')\n",
    "    print(f\"Importing {len(records)} records into Salesforce\")\n",
    "\n",
    "    result = sf_api.bulk_import_transactions(records)\n",
    "    print(result)\n",
    "else:\n",
    "    print(\"Authentication failed\")"
   ]
  }
 ],
 "metadata": {
  "kernelspec": {
   "display_name": "base",
   "language": "python",
   "name": "python3"
  },
  "language_info": {
   "codemirror_mode": {
    "name": "ipython",
    "version": 3
   },
   "file_extension": ".py",
   "mimetype": "text/x-python",
   "name": "python",
   "nbconvert_exporter": "python",
   "pygments_lexer": "ipython3",
   "version": "3.10.9"
  }
 },
 "nbformat": 4,
 "nbformat_minor": 2
}

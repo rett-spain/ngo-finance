{
 "cells": [
  {
   "cell_type": "code",
   "execution_count": 7,
   "metadata": {},
   "outputs": [],
   "source": [
    "# Install the following libraries\n",
    "# %pip install sepaxml"
   ]
  },
  {
   "cell_type": "code",
   "execution_count": 8,
   "metadata": {},
   "outputs": [],
   "source": [
    "# Import libraries\n",
    "import json\n",
    "import sys\n",
    "sys.path.append(\"..\")\n",
    "from utils.filesystem import *\n",
    "\n",
    "# Import SEPA classes\n",
    "from sepaxml import SepaDD"
   ]
  },
  {
   "cell_type": "code",
   "execution_count": 9,
   "metadata": {},
   "outputs": [],
   "source": [
    "# Config file path\n",
    "config_file = '../config.json'\n",
    "\n",
    "# Load the config file\n",
    "with open(config_file) as f:\n",
    "    config = json.load(f)\n",
    "\n",
    "# Load the basic config parameters\n",
    "input_folder_remesa = config['input_folder_remesa']\n",
    "input_file_remesa = config['input_file_remesa']"
   ]
  },
  {
   "cell_type": "code",
   "execution_count": 10,
   "metadata": {},
   "outputs": [
    {
     "name": "stdout",
     "output_type": "stream",
     "text": [
      "The dataframe has 896 rows and 12 columns\n"
     ]
    }
   ],
   "source": [
    "# Ignore UserWarning messages\n",
    "import warnings\n",
    "warnings.filterwarnings(\"ignore\", category=UserWarning)\n",
    "\n",
    "# Load a specific worksheet from the Excel file\n",
    "try:\n",
    "    dataframe = load_csv_to_dataframe (input_folder_remesa, input_file_remesa, 0)\n",
    "\n",
    "    # Count the number of rows and columns\n",
    "    rows, columns = dataframe.shape\n",
    "    print(f\"The dataframe has {rows} rows and {columns} columns\")\n",
    "except Exception as e:\n",
    "    print(f\"An error occurred: {e}\")"
   ]
  },
  {
   "cell_type": "code",
   "execution_count": 11,
   "metadata": {},
   "outputs": [
    {
     "name": "stdout",
     "output_type": "stream",
     "text": [
      "The dataframe has 660 rows and 12 columns\n",
      "Index(['attributes', 'Id', 'ContactType__c', 'FirstName', 'MiddleName',\n",
      "       'LastName', 'Name', 'Email', 'aesr_CuentaBancaria_NombreTitular__c',\n",
      "       'aesr_CuentaBancaria_NombreBanco__c', 'aesr_CuentaBancaria_IBAN__c',\n",
      "       'aesrCuotaSocio__c'],\n",
      "      dtype='object')\n"
     ]
    }
   ],
   "source": [
    "# Remove rows that have ContactType__c = \"Baja\"\n",
    "try:\n",
    "    dataframe = dataframe[dataframe['ContactType__c'] != 'Baja']\n",
    "    rows, columns = dataframe.shape\n",
    "    print(f\"The dataframe has {rows} rows and {columns} columns\")\n",
    "except Exception as e:\n",
    "    print(f\"An error occurred: {e}\")\n",
    "\n",
    "# Print the column names\n",
    "print(dataframe.columns)"
   ]
  },
  {
   "cell_type": "code",
   "execution_count": 16,
   "metadata": {},
   "outputs": [
    {
     "name": "stdout",
     "output_type": "stream",
     "text": [
      "<?xml version=\"1.0\" encoding=\"UTF-8\"?><Document xmlns=\"urn:iso:std:iso:20022:tech:xsd:pain.008.001.02\" xmlns:xsi=\"http://www.w3.org/2001/XMLSchema-instance\"><CstmrDrctDbtInitn><GrpHdr><MsgId>20240524055943-f355f4e06b65</MsgId><CreDtTm>2024-05-24T17:59:43</CreDtTm><NbOfTxs>3</NbOfTxs><CtrlSum>450.00</CtrlSum><InitgPty><Nm>Your Company Name</Nm><Id><OrgId><Othr><Id>YOUR_CREDITOR_ID_HERE</Id></Othr></OrgId></Id></InitgPty></GrpHdr><PmtInf><PmtInfId>YourCompanyName-685c44daa7a7</PmtInfId><PmtMtd>DD</PmtMtd><BtchBookg>true</BtchBookg><NbOfTxs>3</NbOfTxs><CtrlSum>450.00</CtrlSum><PmtTpInf><SvcLvl><Cd>SEPA</Cd></SvcLvl><LclInstrm><Cd>CORE</Cd></LclInstrm><SeqTp>OOFF</SeqTp></PmtTpInf><ReqdColltnDt>2024-05-24</ReqdColltnDt><Cdtr><Nm>Your Company Name</Nm><PstlAdr><AdrTp>ADDR</AdrTp><Dept>Head Office</Dept><StrtNm>Musterstr.</StrtNm><BldgNb>1</BldgNb><PstCd>12345</PstCd><TwnNm>Berlin</TwnNm><Ctry>DE</Ctry><AdrLine>Line 1</AdrLine><AdrLine>Line 2</AdrLine></PstlAdr></Cdtr><CdtrAcct><Id><IBAN>YOUR_IBAN_HERE</IBAN></Id></CdtrAcct><CdtrAgt><FinInstnId><BIC>YOUR_BIC_HERE</BIC></FinInstnId></CdtrAgt><ChrgBr>SLEV</ChrgBr><CdtrSchmeId><Id><PrvtId><Othr><Id>YOUR_CREDITOR_ID_HERE</Id><SchmeNm><Prtry>SEPA</Prtry></SchmeNm></Othr></PrvtId></Id></CdtrSchmeId><DrctDbtTxInf><PmtId><EndToEndId>YourCompanyName-d6972c0a960e</EndToEndId></PmtId><InstdAmt Ccy=\"EUR\">100.00</InstdAmt><DrctDbtTx><MndtRltdInf><MndtId>MANDATE_001</MndtId><DtOfSgntr>2024-05-24</DtOfSgntr></MndtRltdInf></DrctDbtTx><DbtrAgt><FinInstnId><BIC /></FinInstnId></DbtrAgt><Dbtr><Nm>John Doe</Nm></Dbtr><DbtrAcct><Id><IBAN>DE89370400440532013000</IBAN></Id></DbtrAcct><RmtInf><Ustrd>Membership Fee</Ustrd></RmtInf></DrctDbtTxInf><DrctDbtTxInf><PmtId><EndToEndId>YourCompanyName-17da118cb221</EndToEndId></PmtId><InstdAmt Ccy=\"EUR\">200.00</InstdAmt><DrctDbtTx><MndtRltdInf><MndtId>MANDATE_002</MndtId><DtOfSgntr>2024-05-24</DtOfSgntr></MndtRltdInf></DrctDbtTx><DbtrAgt><FinInstnId><BIC /></FinInstnId></DbtrAgt><Dbtr><Nm>Jane Smith</Nm></Dbtr><DbtrAcct><Id><IBAN>FR7630006000011234567890189</IBAN></Id></DbtrAcct><RmtInf><Ustrd>Membership Fee</Ustrd></RmtInf></DrctDbtTxInf><DrctDbtTxInf><PmtId><EndToEndId>YourCompanyName-7dba6dae5735</EndToEndId></PmtId><InstdAmt Ccy=\"EUR\">150.00</InstdAmt><DrctDbtTx><MndtRltdInf><MndtId>MANDATE_003</MndtId><DtOfSgntr>2024-05-24</DtOfSgntr></MndtRltdInf></DrctDbtTx><DbtrAgt><FinInstnId><BIC /></FinInstnId></DbtrAgt><Dbtr><Nm>Doe Johnson</Nm></Dbtr><DbtrAcct><Id><IBAN>ES9121000418450200051332</IBAN></Id></DbtrAcct><RmtInf><Ustrd>Membership Fee</Ustrd></RmtInf></DrctDbtTxInf></PmtInf></CstmrDrctDbtInitn></Document>\n"
     ]
    }
   ],
   "source": [
    "import pandas as pd\n",
    "from sepaxml import SepaDD\n",
    "import datetime\n",
    "\n",
    "# Sample dataframe similar to what you have\n",
    "data = {\n",
    "    'attributes': [''] * 3,\n",
    "    'Id': ['001', '002', '003'],\n",
    "    'ContactType__c': ['Individual', 'Individual', 'Individual'],\n",
    "    'FirstName': ['John', 'Jane', 'Doe'],\n",
    "    'MiddleName': ['', '', ''],\n",
    "    'LastName': ['Doe', 'Smith', 'Johnson'],\n",
    "    'Name': ['John Doe', 'Jane Smith', 'Doe Johnson'],\n",
    "    'Email': ['john.doe@example.com', 'jane.smith@example.com', 'doe.johnson@example.com'],\n",
    "    'aesr_CuentaBancaria_NombreTitular__c': ['John Doe', 'Jane Smith', 'Doe Johnson'],\n",
    "    'aesr_CuentaBancaria_NombreBanco__c': ['Bank A', 'Bank B', 'Bank C'],\n",
    "    'aesr_CuentaBancaria_IBAN__c': ['DE89370400440532013000', 'FR7630006000011234567890189', 'ES9121000418450200051332'],\n",
    "    'aesrCuotaSocio__c': [100.0, 200.0, 150.0]\n",
    "}\n",
    "\n",
    "df = pd.DataFrame(data)\n",
    "\n",
    "# Configuration for the SEPA Direct Debit\n",
    "config = {\n",
    "    \"name\": \"Your Company Name\",\n",
    "    \"IBAN\": \"YOUR_IBAN_HERE\",\n",
    "    \"BIC\": \"YOUR_BIC_HERE\",\n",
    "    \"batch\": True,\n",
    "    \"creditor_id\": \"YOUR_CREDITOR_ID_HERE\",  # supplied by your bank or financial authority\n",
    "    \"currency\": \"EUR\",  # ISO 4217\n",
    "    \"address\": {\n",
    "        \"address_type\": \"ADDR\",\n",
    "        \"department\": \"Head Office\",\n",
    "        \"subdepartment\": None,\n",
    "        \"street_name\": \"Musterstr.\",\n",
    "        \"building_number\": \"1\",\n",
    "        \"postcode\": \"12345\",\n",
    "        \"town\": \"Berlin\",\n",
    "        \"country\": \"DE\",\n",
    "        \"country_subdivision\": None,\n",
    "        \"lines\": [\"Line 1\", \"Line 2\"],\n",
    "    },\n",
    "}\n",
    "\n",
    "# Initialize the SEPA Direct Debit\n",
    "sepa = SepaDD(config, schema=\"pain.008.001.02\", clean=True)\n",
    "\n",
    "# Adding transactions from the dataframe\n",
    "for _, row in df.iterrows():\n",
    "    payment = {\n",
    "        \"name\": row['aesr_CuentaBancaria_NombreTitular__c'],\n",
    "        \"IBAN\": row['aesr_CuentaBancaria_IBAN__c'],\n",
    "        \"BIC\": \"\",  # Optional: Add BIC if available\n",
    "        \"amount\": int(row['aesrCuotaSocio__c'] * 100),  # Convert to cents\n",
    "        \"type\": \"OOFF\",  # One-Off Direct Debit\n",
    "        \"collection_date\": datetime.date.today(),\n",
    "        \"mandate_id\": 'MANDATE_' + row['Id'],\n",
    "        \"mandate_date\": datetime.date.today(),\n",
    "        \"description\": 'Membership Fee',\n",
    "    }\n",
    "    sepa.add_payment(payment)\n",
    "\n",
    "# Export the XML file without validation\n",
    "xml_output = sepa.export(validate=False)\n",
    "print(xml_output.decode('utf-8'))\n",
    "\n",
    "# Save the XML to a file for further inspection\n",
    "with open(\"sepa_dd_unvalidated.xml\", \"wb\") as f:\n",
    "    f.write(xml_output)\n"
   ]
  }
 ],
 "metadata": {
  "kernelspec": {
   "display_name": "base",
   "language": "python",
   "name": "python3"
  },
  "language_info": {
   "codemirror_mode": {
    "name": "ipython",
    "version": 3
   },
   "file_extension": ".py",
   "mimetype": "text/x-python",
   "name": "python",
   "nbconvert_exporter": "python",
   "pygments_lexer": "ipython3",
   "version": "3.10.9"
  }
 },
 "nbformat": 4,
 "nbformat_minor": 2
}

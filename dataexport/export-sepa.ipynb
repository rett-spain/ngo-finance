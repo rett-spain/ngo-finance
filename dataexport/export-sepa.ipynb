{
 "cells": [
  {
   "cell_type": "code",
   "execution_count": 1,
   "metadata": {},
   "outputs": [],
   "source": [
    "# Import libraries\n",
    "import json\n",
    "import sys\n",
    "sys.path.append(\"..\")\n",
    "from utils.filesystem import *"
   ]
  },
  {
   "cell_type": "code",
   "execution_count": 2,
   "metadata": {},
   "outputs": [],
   "source": [
    "# Config file path\n",
    "config_file = '../config.json'\n",
    "\n",
    "# Load the config file\n",
    "with open(config_file) as f:\n",
    "    config = json.load(f)\n",
    "\n",
    "# Load the basic config parameters\n",
    "local_path = config['local_path']\n",
    "file_name = config['file_name']\n",
    "sheet_name = config['sheet_name']"
   ]
  },
  {
   "cell_type": "code",
   "execution_count": null,
   "metadata": {},
   "outputs": [],
   "source": [
    "# Ignore UserWarning messages\n",
    "import warnings\n",
    "warnings.filterwarnings(\"ignore\", category=UserWarning)\n",
    "\n",
    "# Load a specific worksheet from the Excel file\n",
    "try:\n",
    "    dataframe = load_csv_to_dataframe (local_path, file_name, 0)\n",
    "\n",
    "    # Count the number of rows and columns\n",
    "    rows, columns = dataframe.shape\n",
    "    print(f\"The dataframe has {rows} rows and {columns} columns\")\n",
    "except Exception as e:\n",
    "    print(f\"An error occurred: {e}\")"
   ]
  }
 ],
 "metadata": {
  "kernelspec": {
   "display_name": "base",
   "language": "python",
   "name": "python3"
  },
  "language_info": {
   "codemirror_mode": {
    "name": "ipython",
    "version": 3
   },
   "file_extension": ".py",
   "mimetype": "text/x-python",
   "name": "python",
   "nbconvert_exporter": "python",
   "pygments_lexer": "ipython3",
   "version": "3.10.9"
  }
 },
 "nbformat": 4,
 "nbformat_minor": 2
}
